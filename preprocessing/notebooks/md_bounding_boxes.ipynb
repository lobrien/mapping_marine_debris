{
 "cells": [
  {
   "cell_type": "code",
   "execution_count": 1,
   "metadata": {},
   "outputs": [],
   "source": [
    "%matplotlib inline\n",
    "\n",
    "import rasterio as rio\n",
    "from rasterio.features import sieve\n",
    "from rasterio.plot import show\n",
    "\n",
    "import geopandas as gpd\n",
    "from shapely.geometry import Point\n",
    "from os import path\n",
    "import numpy as np\n",
    "from matplotlib import pyplot as plt"
   ]
  },
  {
   "cell_type": "code",
   "execution_count": 2,
   "metadata": {},
   "outputs": [],
   "source": [
    "in_img = r\"C:\\AAA\\marine_debris\\2_664.tif\"\n",
    "in_pts = r\"C:\\AAA\\marine_debris\\2_664_pts_utm4n.geojson\""
   ]
  },
  {
   "cell_type": "code",
   "execution_count": 3,
   "metadata": {},
   "outputs": [],
   "source": [
    "img = rio.open(in_img, 'r+')\n",
    "pts = gpd.read_file(in_pts)"
   ]
  },
  {
   "cell_type": "code",
   "execution_count": 4,
   "metadata": {},
   "outputs": [],
   "source": [
    "bands = [img.read(1, masked=True),\n",
    "        img.read(2, masked=True),\n",
    "        img.read(3, masked=True)]\n",
    "\n"
   ]
  },
  {
   "cell_type": "code",
   "execution_count": 6,
   "metadata": {},
   "outputs": [
    {
     "data": {
      "text/plain": [
       "masked_array(data =\n",
       " [[-- -- -- ..., -- -- --]\n",
       " [-- -- -- ..., -- -- --]\n",
       " [-- -- -- ..., -- -- --]\n",
       " ..., \n",
       " [56 55 52 ..., 54 50 48]\n",
       " [55 54 53 ..., 56 63 44]\n",
       " [50 49 48 ..., 56 54 35]],\n",
       "             mask =\n",
       " [[ True  True  True ...,  True  True  True]\n",
       " [ True  True  True ...,  True  True  True]\n",
       " [ True  True  True ...,  True  True  True]\n",
       " ..., \n",
       " [False False False ..., False False False]\n",
       " [False False False ..., False False False]\n",
       " [False False False ..., False False False]],\n",
       "       fill_value = 999999)"
      ]
     },
     "execution_count": 6,
     "metadata": {},
     "output_type": "execute_result"
    }
   ],
   "source": [
    "bands[0]"
   ]
  },
  {
   "cell_type": "code",
   "execution_count": null,
   "metadata": {},
   "outputs": [],
   "source": [
    "def mask_raster(bands, no_data_value, sieve_size, inverted):\n",
    "    masks = []\n",
    "    for band_num, band in enumerate(bands):\n",
    "        band_mask = np.ma.masked_where(band == no_data_value, band)\n",
    "        masks.append(band_mask.mask)\n",
    "        \n",
    "    if len(bands >=3):\n",
    "        masks_array = np.array(masks)\n",
    "        intersect_mask = masks_array.all(axis=0).astype(np.uint8)\n",
    "        \n",
    "    sieved_mask = sieve(intersect_mask, size=sieve_size).astype(np.bool_)\n",
    "    \n",
    "    if inverted == True:\n",
    "        inverted_sieved_mask = np.invert(sieved_mask)\n",
    "        return inverted_sieved_mask\n",
    "    else:\n",
    "        return sieved_mask"
   ]
  },
  {
   "cell_type": "code",
   "execution_count": null,
   "metadata": {},
   "outputs": [],
   "source": [
    "mask = mask_raster(bands, 0, 200, True)"
   ]
  },
  {
   "cell_type": "code",
   "execution_count": 14,
   "metadata": {},
   "outputs": [
    {
     "data": {
      "image/png": "[encoded data removed]",
      "text/plain": [
       "<Figure size 720x1440 with 1 Axes>"
      ]
     },
     "metadata": {},
     "output_type": "display_data"
    }
   ],
   "source": [
    "plt.figure(1, figsize=(10,20))\n",
    "ax1 = plt.subplot(111)\n",
    "\n",
    "plt.imshow(bands[0])\n",
    "#plt.scatter(pts.geometry.x, pts.geometry.y, zorder=1)\n",
    "\n",
    "ax1.set_xlim(min(pts.geometry.x), max(pts.geometry.x))\n",
    "ax1.set_ylim(min(pts.geometry.y), max(pts.geometry.y))\n",
    "\n",
    "#plt.xlim(min(pts.geometry.x), max(pts.geometry.x))\n",
    "#plt.ylim(min(pts.geometry.y), max(pts.geometry.y))\n",
    "\n",
    "plt.show()"
   ]
  },
  {
   "cell_type": "code",
   "execution_count": null,
   "metadata": {},
   "outputs": [],
   "source": [
    "print(min(pts.geometry.x), max(pts.geometry.x), min(pts.geometry.y), max(pts.geometry.y))"
   ]
  },
  {
   "cell_type": "code",
   "execution_count": null,
   "metadata": {},
   "outputs": [],
   "source": []
  },
  {
   "cell_type": "code",
   "execution_count": null,
   "metadata": {},
   "outputs": [],
   "source": []
  },
  {
   "cell_type": "code",
   "execution_count": null,
   "metadata": {},
   "outputs": [],
   "source": []
  }
 ],
 "metadata": {
  "kernelspec": {
   "display_name": "Python 3",
   "language": "python",
   "name": "python3"
  },
  "language_info": {
   "codemirror_mode": {
    "name": "ipython",
    "version": 3
   },
   "file_extension": ".py",
   "mimetype": "text/x-python",
   "name": "python",
   "nbconvert_exporter": "python",
   "pygments_lexer": "ipython3",
   "version": "3.7.3"
  }
 },
 "nbformat": 4,
 "nbformat_minor": 4
}
