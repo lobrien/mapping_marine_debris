{
 "cells": [
  {
   "cell_type": "code",
   "execution_count": 1,
   "metadata": {},
   "outputs": [],
   "source": [
    "import os\n",
    "\n",
    "import geopandas as gpd\n",
    "import fiona\n",
    "\n",
    "import rasterio\n",
    "\n",
    "import matplotlib.pyplot as plt\n",
    "import numpy as np"
   ]
  },
  {
   "cell_type": "code",
   "execution_count": 2,
   "metadata": {},
   "outputs": [],
   "source": [
    "in_labels = r\"/media/ross/ssd/00_2015_DAR_marinedebris/kahoolawe/labels/kahoolawe_annotations.gpkg\"\n",
    "in_tile_index = r\"/media/ross/ssd/00_2015_DAR_marinedebris/kahoolawe/tiles_shp/kahoolawe_512x512_tile_index.gpkg\"\n",
    "\n",
    "out_dir = r\"/media/ross/ssd/00_2015_DAR_marinedebris/kahoolawe/04_window_retile\"\n",
    "out_path_pos_tiles = os.path.join(out_dir, \"positive_tiles.txt\")\n",
    "out_path_neg_tiles = os.path.join(out_dir, \"negative_tiles.txt\")"
   ]
  },
  {
   "cell_type": "code",
   "execution_count": 3,
   "metadata": {},
   "outputs": [],
   "source": [
    "envelopes = gpd.read_file(in_labels)\n",
    "tindex = gpd.read_file(in_tile_index)"
   ]
  },
  {
   "cell_type": "code",
   "execution_count": 4,
   "metadata": {},
   "outputs": [
    {
     "data": {
      "text/html": [
       "<div>\n",
       "<style scoped>\n",
       "    .dataframe tbody tr th:only-of-type {\n",
       "        vertical-align: middle;\n",
       "    }\n",
       "\n",
       "    .dataframe tbody tr th {\n",
       "        vertical-align: top;\n",
       "    }\n",
       "\n",
       "    .dataframe thead th {\n",
       "        text-align: right;\n",
       "    }\n",
       "</style>\n",
       "<table border=\"1\" class=\"dataframe\">\n",
       "  <thead>\n",
       "    <tr style=\"text-align: right;\">\n",
       "      <th></th>\n",
       "      <th>unique_pt_id</th>\n",
       "      <th>label</th>\n",
       "      <th>filename</th>\n",
       "      <th>xmin</th>\n",
       "      <th>ymin</th>\n",
       "      <th>xmax</th>\n",
       "      <th>ymax</th>\n",
       "      <th>normalized_ratio_x_y</th>\n",
       "      <th>geometry</th>\n",
       "    </tr>\n",
       "  </thead>\n",
       "  <tbody>\n",
       "    <tr>\n",
       "      <td>0</td>\n",
       "      <td>KO-001-0001</td>\n",
       "      <td>6</td>\n",
       "      <td>kahoolawe_107_9_7</td>\n",
       "      <td>121</td>\n",
       "      <td>0</td>\n",
       "      <td>418</td>\n",
       "      <td>244</td>\n",
       "      <td>0.225772</td>\n",
       "      <td>POLYGON ((753040.5071327947 2280099.155738274,...</td>\n",
       "    </tr>\n",
       "    <tr>\n",
       "      <td>1</td>\n",
       "      <td>KO-001-0002</td>\n",
       "      <td>6</td>\n",
       "      <td>kahoolawe_107_9_7</td>\n",
       "      <td>317</td>\n",
       "      <td>74</td>\n",
       "      <td>367</td>\n",
       "      <td>124</td>\n",
       "      <td>0.000000</td>\n",
       "      <td>POLYGON ((753044.4685932701 2280101.566776025,...</td>\n",
       "    </tr>\n",
       "    <tr>\n",
       "      <td>2</td>\n",
       "      <td>KO-001-0003</td>\n",
       "      <td>5</td>\n",
       "      <td>kahoolawe_107_9_7</td>\n",
       "      <td>277</td>\n",
       "      <td>0</td>\n",
       "      <td>512</td>\n",
       "      <td>286</td>\n",
       "      <td>0.172862</td>\n",
       "      <td>POLYGON ((753043.648511753 2280098.316467939, ...</td>\n",
       "    </tr>\n",
       "    <tr>\n",
       "      <td>3</td>\n",
       "      <td>KO-001-0004</td>\n",
       "      <td>6</td>\n",
       "      <td>kahoolawe_107_9_7</td>\n",
       "      <td>402</td>\n",
       "      <td>211</td>\n",
       "      <td>451</td>\n",
       "      <td>261</td>\n",
       "      <td>0.000000</td>\n",
       "      <td>POLYGON ((753046.1782535802 2280098.823095408,...</td>\n",
       "    </tr>\n",
       "    <tr>\n",
       "      <td>4</td>\n",
       "      <td>KO-001-0005</td>\n",
       "      <td>6</td>\n",
       "      <td>kahoolawe_107_9_8</td>\n",
       "      <td>9</td>\n",
       "      <td>214</td>\n",
       "      <td>58</td>\n",
       "      <td>264</td>\n",
       "      <td>0.000000</td>\n",
       "      <td>POLYGON ((753048.5781626365 2280098.748135485,...</td>\n",
       "    </tr>\n",
       "  </tbody>\n",
       "</table>\n",
       "</div>"
      ],
      "text/plain": [
       "  unique_pt_id label           filename  xmin  ymin  xmax  ymax  \\\n",
       "0  KO-001-0001     6  kahoolawe_107_9_7   121     0   418   244   \n",
       "1  KO-001-0002     6  kahoolawe_107_9_7   317    74   367   124   \n",
       "2  KO-001-0003     5  kahoolawe_107_9_7   277     0   512   286   \n",
       "3  KO-001-0004     6  kahoolawe_107_9_7   402   211   451   261   \n",
       "4  KO-001-0005     6  kahoolawe_107_9_8     9   214    58   264   \n",
       "\n",
       "   normalized_ratio_x_y                                           geometry  \n",
       "0              0.225772  POLYGON ((753040.5071327947 2280099.155738274,...  \n",
       "1              0.000000  POLYGON ((753044.4685932701 2280101.566776025,...  \n",
       "2              0.172862  POLYGON ((753043.648511753 2280098.316467939, ...  \n",
       "3              0.000000  POLYGON ((753046.1782535802 2280098.823095408,...  \n",
       "4              0.000000  POLYGON ((753048.5781626365 2280098.748135485,...  "
      ]
     },
     "execution_count": 4,
     "metadata": {},
     "output_type": "execute_result"
    }
   ],
   "source": [
    "envelopes.head()"
   ]
  },
  {
   "cell_type": "code",
   "execution_count": 8,
   "metadata": {},
   "outputs": [
    {
     "name": "stdout",
     "output_type": "stream",
     "text": [
      "179588\n"
     ]
    }
   ],
   "source": [
    "all_tiles = tindex.filename.unique()\n",
    "print(len(all_tiles))"
   ]
  },
  {
   "cell_type": "code",
   "execution_count": 16,
   "metadata": {},
   "outputs": [
    {
     "name": "stdout",
     "output_type": "stream",
     "text": [
      "651\n"
     ]
    }
   ],
   "source": [
    "pos_tiles = envelopes.filename.unique()\n",
    "print(len(pos_tiles))"
   ]
  },
  {
   "cell_type": "code",
   "execution_count": 17,
   "metadata": {},
   "outputs": [
    {
     "name": "stdout",
     "output_type": "stream",
     "text": [
      "positive lists match\n"
     ]
    }
   ],
   "source": [
    "pos_list = pos_tiles.tolist()\n",
    "pos_list_ext = []\n",
    "\n",
    "for pos in pos_list:\n",
    "    new_pos = str(pos) + str('.jpg')\n",
    "    \n",
    "    pos_list_ext.append(new_pos)\n",
    "    \n",
    "if len(pos_list_ext) == len(pos_tiles):\n",
    "    print('positive lists match')\n",
    "else:\n",
    "    print('WARNING, INPUT AND OUTPUT POSTITIVE LIST LENGTHS DONT MATCH')"
   ]
  },
  {
   "cell_type": "code",
   "execution_count": 18,
   "metadata": {},
   "outputs": [
    {
     "data": {
      "text/plain": [
       "178937"
      ]
     },
     "execution_count": 18,
     "metadata": {},
     "output_type": "execute_result"
    }
   ],
   "source": [
    "neg_tiles = np.setdiff1d(all_tiles, pos_tiles)\n",
    "len(neg_tiles)"
   ]
  },
  {
   "cell_type": "code",
   "execution_count": 19,
   "metadata": {},
   "outputs": [
    {
     "name": "stdout",
     "output_type": "stream",
     "text": [
      "neg lists match\n"
     ]
    }
   ],
   "source": [
    "neg_list = neg_tiles.tolist()\n",
    "neg_list_ext = []\n",
    "\n",
    "for neg in neg_list:\n",
    "    new_neg = str(neg) + str('.jpg')\n",
    "    \n",
    "    neg_list_ext.append(new_neg)\n",
    "    \n",
    "if len(neg_list_ext) == len(neg_tiles):\n",
    "    print('neg lists match')\n",
    "else:\n",
    "    print('WARNING, INPUT AND OUTPUT NEGATIVE LIST LENGTHS DONT MATCH')"
   ]
  },
  {
   "cell_type": "code",
   "execution_count": 20,
   "metadata": {},
   "outputs": [
    {
     "name": "stdout",
     "output_type": "stream",
     "text": [
      "Did the math. Gottem.\n"
     ]
    }
   ],
   "source": [
    "if len(pos_tiles) + len(neg_tiles) == len(all_tiles):\n",
    "    print(\"Did the math. Gottem.\")\n",
    "    \n",
    "    with open(out_path_pos_tiles, 'w') as f:\n",
    "        for item in pos_list_ext:\n",
    "            f.write(\"%s\\n\" % item)\n",
    "\n",
    "    with open(out_path_neg_tiles, 'w') as f:\n",
    "        for item in neg_list_ext:\n",
    "            f.write(\"%s\\n\" % item)\n",
    "else:\n",
    "    print(f'I think I lost some tiles: {len(pos_tiles)} pos/ {len(neg_tiles)} neg/ {len(all_tiles)} total')"
   ]
  },
  {
   "cell_type": "code",
   "execution_count": null,
   "metadata": {},
   "outputs": [],
   "source": []
  }
 ],
 "metadata": {
  "kernelspec": {
   "display_name": "osgeo",
   "language": "python",
   "name": "osgeo"
  },
  "language_info": {
   "codemirror_mode": {
    "name": "ipython",
    "version": 3
   },
   "file_extension": ".py",
   "mimetype": "text/x-python",
   "name": "python",
   "nbconvert_exporter": "python",
   "pygments_lexer": "ipython3",
   "version": "3.7.4"
  }
 },
 "nbformat": 4,
 "nbformat_minor": 4
}
