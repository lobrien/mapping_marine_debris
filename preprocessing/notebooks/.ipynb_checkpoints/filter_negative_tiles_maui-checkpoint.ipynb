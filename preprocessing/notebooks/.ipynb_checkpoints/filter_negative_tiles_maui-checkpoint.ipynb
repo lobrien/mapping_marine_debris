{
 "cells": [
  {
   "cell_type": "code",
   "execution_count": 27,
   "metadata": {},
   "outputs": [],
   "source": [
    "import os\n",
    "\n",
    "import geopandas as gpd\n",
    "import fiona\n",
    "\n",
    "import rasterio\n",
    "\n",
    "import matplotlib.pyplot as plt\n",
    "import numpy as np"
   ]
  },
  {
   "cell_type": "code",
   "execution_count": 2,
   "metadata": {},
   "outputs": [],
   "source": [
    "in_labels = r\"/media/ross/ssd/00_2015_DAR_marinedebris/maui/labels/final_marine_debris_labels_MA_utm4n.gpkg\"\n",
    "in_tile_index = r\"/media/ross/ssd/00_2015_DAR_marinedebris/maui/tiles_shp/maui_gdal_trace_outline_clean_tile_index.shp\"\n",
    "\n",
    "out_dir = r\"/media/ross/ssd/00_2015_DAR_marinedebris/maui/labels\"\n",
    "\n",
    "out_path_gpkg = os.path.join(out_dir, \"maui_md_label_envelopes.gpkg\")\n",
    "out_path_pos_tiles = os.path.join(out_dir, \"positive_tiles.txt\")\n",
    "out_path_neg_tiles = os.path.join(out_dir, \"negative_tiles.txt\")"
   ]
  },
  {
   "cell_type": "code",
   "execution_count": 3,
   "metadata": {},
   "outputs": [],
   "source": [
    "in_pt_labels = gpd.read_file(in_labels)\n",
    "in_tindex = gpd.read_file(in_tile_index)"
   ]
  },
  {
   "cell_type": "code",
   "execution_count": 4,
   "metadata": {},
   "outputs": [
    {
     "data": {
      "text/html": [
       "<div>\n",
       "<style scoped>\n",
       "    .dataframe tbody tr th:only-of-type {\n",
       "        vertical-align: middle;\n",
       "    }\n",
       "\n",
       "    .dataframe tbody tr th {\n",
       "        vertical-align: top;\n",
       "    }\n",
       "\n",
       "    .dataframe thead th {\n",
       "        text-align: right;\n",
       "    }\n",
       "</style>\n",
       "<table border=\"1\" class=\"dataframe\">\n",
       "  <thead>\n",
       "    <tr style=\"text-align: right;\">\n",
       "      <th></th>\n",
       "      <th>filename</th>\n",
       "      <th>filename_1</th>\n",
       "      <th>filename_2</th>\n",
       "      <th>geometry</th>\n",
       "    </tr>\n",
       "  </thead>\n",
       "  <tbody>\n",
       "    <tr>\n",
       "      <td>0</td>\n",
       "      <td>maui_10122</td>\n",
       "      <td>None</td>\n",
       "      <td>None</td>\n",
       "      <td>POLYGON ((739498.0945460335 2315795.921187642,...</td>\n",
       "    </tr>\n",
       "    <tr>\n",
       "      <td>1</td>\n",
       "      <td>maui_10192</td>\n",
       "      <td>None</td>\n",
       "      <td>None</td>\n",
       "      <td>POLYGON ((760544.4945460336 2315795.921187642,...</td>\n",
       "    </tr>\n",
       "    <tr>\n",
       "      <td>2</td>\n",
       "      <td>maui_10193</td>\n",
       "      <td>None</td>\n",
       "      <td>None</td>\n",
       "      <td>POLYGON ((760798.0945460335 2315795.921187642,...</td>\n",
       "    </tr>\n",
       "    <tr>\n",
       "      <td>3</td>\n",
       "      <td>maui_10231</td>\n",
       "      <td>None</td>\n",
       "      <td>None</td>\n",
       "      <td>POLYGON ((772498.0945460335 2315667.481187642,...</td>\n",
       "    </tr>\n",
       "    <tr>\n",
       "      <td>4</td>\n",
       "      <td>maui_10232</td>\n",
       "      <td>None</td>\n",
       "      <td>None</td>\n",
       "      <td>POLYGON ((772627.7345460335 2315795.921187642,...</td>\n",
       "    </tr>\n",
       "  </tbody>\n",
       "</table>\n",
       "</div>"
      ],
      "text/plain": [
       "     filename filename_1 filename_2  \\\n",
       "0  maui_10122       None       None   \n",
       "1  maui_10192       None       None   \n",
       "2  maui_10193       None       None   \n",
       "3  maui_10231       None       None   \n",
       "4  maui_10232       None       None   \n",
       "\n",
       "                                            geometry  \n",
       "0  POLYGON ((739498.0945460335 2315795.921187642,...  \n",
       "1  POLYGON ((760544.4945460336 2315795.921187642,...  \n",
       "2  POLYGON ((760798.0945460335 2315795.921187642,...  \n",
       "3  POLYGON ((772498.0945460335 2315667.481187642,...  \n",
       "4  POLYGON ((772627.7345460335 2315795.921187642,...  "
      ]
     },
     "execution_count": 4,
     "metadata": {},
     "output_type": "execute_result"
    }
   ],
   "source": [
    "in_tindex.head()"
   ]
  },
  {
   "cell_type": "code",
   "execution_count": 5,
   "metadata": {},
   "outputs": [],
   "source": [
    "#Create envelopes from the points based on the attribute 'max_size_meters'"
   ]
  },
  {
   "cell_type": "code",
   "execution_count": 6,
   "metadata": {},
   "outputs": [],
   "source": [
    "def buffer_by_feat(row):\n",
    "    return row.geometry.buffer(row.max_size_meters)"
   ]
  },
  {
   "cell_type": "code",
   "execution_count": 7,
   "metadata": {},
   "outputs": [],
   "source": [
    "buffered = in_pt_labels.copy()"
   ]
  },
  {
   "cell_type": "code",
   "execution_count": 8,
   "metadata": {},
   "outputs": [],
   "source": [
    "buffered['geometry'] = buffered.apply(buffer_by_feat, axis=1)"
   ]
  },
  {
   "cell_type": "code",
   "execution_count": 9,
   "metadata": {},
   "outputs": [],
   "source": [
    "envelopes= buffered.copy()"
   ]
  },
  {
   "cell_type": "code",
   "execution_count": 10,
   "metadata": {},
   "outputs": [
    {
     "data": {
      "text/html": [
       "<div>\n",
       "<style scoped>\n",
       "    .dataframe tbody tr th:only-of-type {\n",
       "        vertical-align: middle;\n",
       "    }\n",
       "\n",
       "    .dataframe tbody tr th {\n",
       "        vertical-align: top;\n",
       "    }\n",
       "\n",
       "    .dataframe thead th {\n",
       "        text-align: right;\n",
       "    }\n",
       "</style>\n",
       "<table border=\"1\" class=\"dataframe\">\n",
       "  <thead>\n",
       "    <tr style=\"text-align: right;\">\n",
       "      <th></th>\n",
       "      <th>unique_pt_id</th>\n",
       "      <th>island</th>\n",
       "      <th>segment</th>\n",
       "      <th>pt_id</th>\n",
       "      <th>lat</th>\n",
       "      <th>long</th>\n",
       "      <th>type</th>\n",
       "      <th>size</th>\n",
       "      <th>min_size_meters</th>\n",
       "      <th>max_size_meters</th>\n",
       "      <th>comment</th>\n",
       "      <th>observer</th>\n",
       "      <th>geometry</th>\n",
       "    </tr>\n",
       "  </thead>\n",
       "  <tbody>\n",
       "    <tr>\n",
       "      <td>0</td>\n",
       "      <td>MA-001-0001</td>\n",
       "      <td>MA</td>\n",
       "      <td>1</td>\n",
       "      <td>1</td>\n",
       "      <td>21.022123</td>\n",
       "      <td>-156.625768</td>\n",
       "      <td>O</td>\n",
       "      <td>1</td>\n",
       "      <td>0.01</td>\n",
       "      <td>0.5</td>\n",
       "      <td>very small</td>\n",
       "      <td>AR</td>\n",
       "      <td>POLYGON ((746767.042812153 2326430.389631396, ...</td>\n",
       "    </tr>\n",
       "    <tr>\n",
       "      <td>1</td>\n",
       "      <td>MA-001-0002</td>\n",
       "      <td>MA</td>\n",
       "      <td>1</td>\n",
       "      <td>2</td>\n",
       "      <td>21.022217</td>\n",
       "      <td>-156.624061</td>\n",
       "      <td>B</td>\n",
       "      <td>1</td>\n",
       "      <td>0.01</td>\n",
       "      <td>0.5</td>\n",
       "      <td>None</td>\n",
       "      <td>AR</td>\n",
       "      <td>POLYGON ((746944.3821923686 2326443.440532876,...</td>\n",
       "    </tr>\n",
       "    <tr>\n",
       "      <td>2</td>\n",
       "      <td>MA-001-0003</td>\n",
       "      <td>MA</td>\n",
       "      <td>1</td>\n",
       "      <td>3</td>\n",
       "      <td>21.023182</td>\n",
       "      <td>-156.620965</td>\n",
       "      <td>P</td>\n",
       "      <td>1</td>\n",
       "      <td>0.01</td>\n",
       "      <td>0.5</td>\n",
       "      <td>None</td>\n",
       "      <td>AR</td>\n",
       "      <td>POLYGON ((747264.7125466345 2326555.103654591,...</td>\n",
       "    </tr>\n",
       "    <tr>\n",
       "      <td>3</td>\n",
       "      <td>MA-001-0004</td>\n",
       "      <td>MA</td>\n",
       "      <td>1</td>\n",
       "      <td>4</td>\n",
       "      <td>21.023173</td>\n",
       "      <td>-156.620963</td>\n",
       "      <td>P</td>\n",
       "      <td>1</td>\n",
       "      <td>0.01</td>\n",
       "      <td>0.5</td>\n",
       "      <td>None</td>\n",
       "      <td>AR</td>\n",
       "      <td>POLYGON ((747264.9353615083 2326554.11005451, ...</td>\n",
       "    </tr>\n",
       "    <tr>\n",
       "      <td>4</td>\n",
       "      <td>MA-001-0005</td>\n",
       "      <td>MA</td>\n",
       "      <td>1</td>\n",
       "      <td>5</td>\n",
       "      <td>21.023832</td>\n",
       "      <td>-156.619177</td>\n",
       "      <td>W</td>\n",
       "      <td>1</td>\n",
       "      <td>0.01</td>\n",
       "      <td>0.5</td>\n",
       "      <td>None</td>\n",
       "      <td>AR</td>\n",
       "      <td>POLYGON ((747449.5547359405 2326629.859620453,...</td>\n",
       "    </tr>\n",
       "  </tbody>\n",
       "</table>\n",
       "</div>"
      ],
      "text/plain": [
       "  unique_pt_id island  segment  pt_id        lat        long type  size  \\\n",
       "0  MA-001-0001     MA        1      1  21.022123 -156.625768    O     1   \n",
       "1  MA-001-0002     MA        1      2  21.022217 -156.624061    B     1   \n",
       "2  MA-001-0003     MA        1      3  21.023182 -156.620965    P     1   \n",
       "3  MA-001-0004     MA        1      4  21.023173 -156.620963    P     1   \n",
       "4  MA-001-0005     MA        1      5  21.023832 -156.619177    W     1   \n",
       "\n",
       "   min_size_meters  max_size_meters     comment observer  \\\n",
       "0             0.01              0.5  very small       AR   \n",
       "1             0.01              0.5        None       AR   \n",
       "2             0.01              0.5        None       AR   \n",
       "3             0.01              0.5        None       AR   \n",
       "4             0.01              0.5        None       AR   \n",
       "\n",
       "                                            geometry  \n",
       "0  POLYGON ((746767.042812153 2326430.389631396, ...  \n",
       "1  POLYGON ((746944.3821923686 2326443.440532876,...  \n",
       "2  POLYGON ((747264.7125466345 2326555.103654591,...  \n",
       "3  POLYGON ((747264.9353615083 2326554.11005451, ...  \n",
       "4  POLYGON ((747449.5547359405 2326629.859620453,...  "
      ]
     },
     "execution_count": 10,
     "metadata": {},
     "output_type": "execute_result"
    }
   ],
   "source": [
    "envelopes['geometry'] = buffered.envelope\n",
    "envelopes.head()"
   ]
  },
  {
   "cell_type": "code",
   "execution_count": 12,
   "metadata": {},
   "outputs": [],
   "source": [
    "envelopes.to_file(out_path_gpkg, driver=\"GPKG\")"
   ]
  },
  {
   "cell_type": "code",
   "execution_count": 11,
   "metadata": {},
   "outputs": [
    {
     "name": "stdout",
     "output_type": "stream",
     "text": [
      "{'init': 'epsg:26904'} and {'init': 'epsg:26904'} match\n"
     ]
    }
   ],
   "source": [
    "if in_tindex.crs == envelopes.crs:\n",
    "    print(f'{in_tindex.crs} and {envelopes.crs} match')\n",
    "else:\n",
    "    print(f'{in_tindex.crs} and {envelopes.crs} DO NOT MATCH')"
   ]
  },
  {
   "cell_type": "code",
   "execution_count": null,
   "metadata": {},
   "outputs": [],
   "source": [
    "#Find all the intersections of our envelopes and the tile index."
   ]
  },
  {
   "cell_type": "code",
   "execution_count": 13,
   "metadata": {},
   "outputs": [],
   "source": [
    "intersection = gpd.overlay(envelopes, in_tindex)"
   ]
  },
  {
   "cell_type": "code",
   "execution_count": 14,
   "metadata": {},
   "outputs": [
    {
     "data": {
      "text/html": [
       "<div>\n",
       "<style scoped>\n",
       "    .dataframe tbody tr th:only-of-type {\n",
       "        vertical-align: middle;\n",
       "    }\n",
       "\n",
       "    .dataframe tbody tr th {\n",
       "        vertical-align: top;\n",
       "    }\n",
       "\n",
       "    .dataframe thead th {\n",
       "        text-align: right;\n",
       "    }\n",
       "</style>\n",
       "<table border=\"1\" class=\"dataframe\">\n",
       "  <thead>\n",
       "    <tr style=\"text-align: right;\">\n",
       "      <th></th>\n",
       "      <th>unique_pt_id</th>\n",
       "      <th>island</th>\n",
       "      <th>segment</th>\n",
       "      <th>pt_id</th>\n",
       "      <th>lat</th>\n",
       "      <th>long</th>\n",
       "      <th>type</th>\n",
       "      <th>size</th>\n",
       "      <th>min_size_meters</th>\n",
       "      <th>max_size_meters</th>\n",
       "      <th>comment</th>\n",
       "      <th>observer</th>\n",
       "      <th>filename</th>\n",
       "      <th>filename_1</th>\n",
       "      <th>filename_2</th>\n",
       "      <th>geometry</th>\n",
       "    </tr>\n",
       "  </thead>\n",
       "  <tbody>\n",
       "    <tr>\n",
       "      <td>0</td>\n",
       "      <td>MA-001-0001</td>\n",
       "      <td>MA</td>\n",
       "      <td>1</td>\n",
       "      <td>1</td>\n",
       "      <td>21.022123</td>\n",
       "      <td>-156.625768</td>\n",
       "      <td>O</td>\n",
       "      <td>1</td>\n",
       "      <td>0.01</td>\n",
       "      <td>0.5</td>\n",
       "      <td>very small</td>\n",
       "      <td>AR</td>\n",
       "      <td>maui_1038</td>\n",
       "      <td>None</td>\n",
       "      <td>None</td>\n",
       "      <td>POLYGON ((746767.042812153 2326430.389631396, ...</td>\n",
       "    </tr>\n",
       "    <tr>\n",
       "      <td>1</td>\n",
       "      <td>MA-001-0002</td>\n",
       "      <td>MA</td>\n",
       "      <td>1</td>\n",
       "      <td>2</td>\n",
       "      <td>21.022217</td>\n",
       "      <td>-156.624061</td>\n",
       "      <td>B</td>\n",
       "      <td>1</td>\n",
       "      <td>0.01</td>\n",
       "      <td>0.5</td>\n",
       "      <td>None</td>\n",
       "      <td>AR</td>\n",
       "      <td>maui_1038</td>\n",
       "      <td>None</td>\n",
       "      <td>None</td>\n",
       "      <td>POLYGON ((746944.3821923686 2326443.440532876,...</td>\n",
       "    </tr>\n",
       "    <tr>\n",
       "      <td>2</td>\n",
       "      <td>MA-001-0003</td>\n",
       "      <td>MA</td>\n",
       "      <td>1</td>\n",
       "      <td>3</td>\n",
       "      <td>21.023182</td>\n",
       "      <td>-156.620965</td>\n",
       "      <td>P</td>\n",
       "      <td>1</td>\n",
       "      <td>0.01</td>\n",
       "      <td>0.5</td>\n",
       "      <td>None</td>\n",
       "      <td>AR</td>\n",
       "      <td>maui_1039</td>\n",
       "      <td>None</td>\n",
       "      <td>None</td>\n",
       "      <td>POLYGON ((747264.7125466345 2326555.103654591,...</td>\n",
       "    </tr>\n",
       "    <tr>\n",
       "      <td>3</td>\n",
       "      <td>MA-001-0004</td>\n",
       "      <td>MA</td>\n",
       "      <td>1</td>\n",
       "      <td>4</td>\n",
       "      <td>21.023173</td>\n",
       "      <td>-156.620963</td>\n",
       "      <td>P</td>\n",
       "      <td>1</td>\n",
       "      <td>0.01</td>\n",
       "      <td>0.5</td>\n",
       "      <td>None</td>\n",
       "      <td>AR</td>\n",
       "      <td>maui_1039</td>\n",
       "      <td>None</td>\n",
       "      <td>None</td>\n",
       "      <td>POLYGON ((747264.9353615083 2326554.11005451, ...</td>\n",
       "    </tr>\n",
       "    <tr>\n",
       "      <td>4</td>\n",
       "      <td>MA-001-0005</td>\n",
       "      <td>MA</td>\n",
       "      <td>1</td>\n",
       "      <td>5</td>\n",
       "      <td>21.023832</td>\n",
       "      <td>-156.619177</td>\n",
       "      <td>W</td>\n",
       "      <td>1</td>\n",
       "      <td>0.01</td>\n",
       "      <td>0.5</td>\n",
       "      <td>None</td>\n",
       "      <td>AR</td>\n",
       "      <td>maui_787</td>\n",
       "      <td>None</td>\n",
       "      <td>None</td>\n",
       "      <td>POLYGON ((747449.5547359405 2326629.859620453,...</td>\n",
       "    </tr>\n",
       "  </tbody>\n",
       "</table>\n",
       "</div>"
      ],
      "text/plain": [
       "  unique_pt_id island  segment  pt_id        lat        long type  size  \\\n",
       "0  MA-001-0001     MA        1      1  21.022123 -156.625768    O     1   \n",
       "1  MA-001-0002     MA        1      2  21.022217 -156.624061    B     1   \n",
       "2  MA-001-0003     MA        1      3  21.023182 -156.620965    P     1   \n",
       "3  MA-001-0004     MA        1      4  21.023173 -156.620963    P     1   \n",
       "4  MA-001-0005     MA        1      5  21.023832 -156.619177    W     1   \n",
       "\n",
       "   min_size_meters  max_size_meters     comment observer   filename  \\\n",
       "0             0.01              0.5  very small       AR  maui_1038   \n",
       "1             0.01              0.5        None       AR  maui_1038   \n",
       "2             0.01              0.5        None       AR  maui_1039   \n",
       "3             0.01              0.5        None       AR  maui_1039   \n",
       "4             0.01              0.5        None       AR   maui_787   \n",
       "\n",
       "  filename_1 filename_2                                           geometry  \n",
       "0       None       None  POLYGON ((746767.042812153 2326430.389631396, ...  \n",
       "1       None       None  POLYGON ((746944.3821923686 2326443.440532876,...  \n",
       "2       None       None  POLYGON ((747264.7125466345 2326555.103654591,...  \n",
       "3       None       None  POLYGON ((747264.9353615083 2326554.11005451, ...  \n",
       "4       None       None  POLYGON ((747449.5547359405 2326629.859620453,...  "
      ]
     },
     "execution_count": 14,
     "metadata": {},
     "output_type": "execute_result"
    }
   ],
   "source": [
    "intersection.head()"
   ]
  },
  {
   "cell_type": "code",
   "execution_count": 22,
   "metadata": {},
   "outputs": [
    {
     "name": "stdout",
     "output_type": "stream",
     "text": [
      "1578\n"
     ]
    }
   ],
   "source": [
    "all_tiles = in_tindex.filename.unique()\n",
    "print(len(all_tiles))"
   ]
  },
  {
   "cell_type": "code",
   "execution_count": 67,
   "metadata": {},
   "outputs": [
    {
     "name": "stdout",
     "output_type": "stream",
     "text": [
      "329\n"
     ]
    }
   ],
   "source": [
    "pos_tiles = intersection.filename.unique().astype('str')\n",
    "print(len(positive_tiles))"
   ]
  },
  {
   "cell_type": "code",
   "execution_count": 77,
   "metadata": {},
   "outputs": [
    {
     "name": "stdout",
     "output_type": "stream",
     "text": [
      "positive lists match\n"
     ]
    }
   ],
   "source": [
    "pos_list = pos_tiles.tolist()\n",
    "pos_list_ext = []\n",
    "\n",
    "for pos in pos_list:\n",
    "    new_pos = str(pos) + str('.tif')\n",
    "    \n",
    "    pos_list_ext.append(new_pos)\n",
    "    \n",
    "if len(pos_list_ext) == len(pos_tiles):\n",
    "    print('positive lists match')\n",
    "else:\n",
    "    print('WARNING, INPUT AND OUTPUT POSTITIVE LIST LENGTHS DONT MATCH')"
   ]
  },
  {
   "cell_type": "code",
   "execution_count": 78,
   "metadata": {},
   "outputs": [
    {
     "data": {
      "text/plain": [
       "1249"
      ]
     },
     "execution_count": 78,
     "metadata": {},
     "output_type": "execute_result"
    }
   ],
   "source": [
    "neg_tiles = np.setdiff1d(all_tiles, pos_tiles)\n",
    "len(neg_tiles)"
   ]
  },
  {
   "cell_type": "code",
   "execution_count": 80,
   "metadata": {},
   "outputs": [
    {
     "name": "stdout",
     "output_type": "stream",
     "text": [
      "positive lists match\n"
     ]
    }
   ],
   "source": [
    "neg_list = neg_tiles.tolist()\n",
    "neg_list_ext = []\n",
    "\n",
    "for neg in neg_list:\n",
    "    new_neg = str(neg) + str('.tif')\n",
    "    \n",
    "    neg_list_ext.append(new_neg)\n",
    "    \n",
    "if len(neg_list_ext) == len(neg_tiles):\n",
    "    print('positive lists match')\n",
    "else:\n",
    "    print('WARNING, INPUT AND OUTPUT POSTITIVE LIST LENGTHS DONT MATCH')"
   ]
  },
  {
   "cell_type": "code",
   "execution_count": 83,
   "metadata": {},
   "outputs": [
    {
     "name": "stdout",
     "output_type": "stream",
     "text": [
      "Gottem.\n"
     ]
    }
   ],
   "source": [
    "if len(pos_tiles) + len(neg_tiles) == len(all_tiles):\n",
    "    print(\"Gottem.\")\n",
    "    \n",
    "    with open(out_path_pos_tiles, 'w') as f:\n",
    "        for item in pos_list_ext:\n",
    "            f.write(\"%s\\n\" % item)\n",
    "\n",
    "    with open(out_path_neg_tiles, 'w') as f:\n",
    "        for item in neg_list_ext:\n",
    "            f.write(\"%s\\n\" % item)\n",
    "else:\n",
    "    print(f'I think I lost some tiles: {len(pos_tiles)} pos/ {len(neg_tiles)} neg/ {len(all_tiles)} total')"
   ]
  },
  {
   "cell_type": "code",
   "execution_count": null,
   "metadata": {},
   "outputs": [],
   "source": []
  }
 ],
 "metadata": {
  "kernelspec": {
   "display_name": "osgeo",
   "language": "python",
   "name": "osgeo"
  },
  "language_info": {
   "codemirror_mode": {
    "name": "ipython",
    "version": 3
   },
   "file_extension": ".py",
   "mimetype": "text/x-python",
   "name": "python",
   "nbconvert_exporter": "python",
   "pygments_lexer": "ipython3",
   "version": "3.7.4"
  }
 },
 "nbformat": 4,
 "nbformat_minor": 4
}
