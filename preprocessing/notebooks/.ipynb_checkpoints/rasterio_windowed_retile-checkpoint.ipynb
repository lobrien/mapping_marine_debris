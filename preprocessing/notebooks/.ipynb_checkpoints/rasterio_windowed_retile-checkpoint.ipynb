{
 "cells": [
  {
   "cell_type": "code",
   "execution_count": null,
   "metadata": {},
   "outputs": [],
   "source": [
    "import os\n",
    "import rasterio\n",
    "from rasterio import windows\n",
    "from rasterio.enums import Resampling\n",
    "import numpy as np\n",
    "\n",
    "from concurrent.futures import ProcessPoolExecutor"
   ]
  },
  {
   "cell_type": "code",
   "execution_count": null,
   "metadata": {},
   "outputs": [],
   "source": [
    "file_list = r\"/media/ross/ssd/00_2015_DAR_marinedebris/kahoolawe/03_gdalwarp_blocksize/tif_list.txt\"\n",
    "out_dir = r\"/media/ross/ssd/00_2015_DAR_marinedebris/kahoolawe/04_window_retile/\""
   ]
  },
  {
   "cell_type": "code",
   "execution_count": null,
   "metadata": {},
   "outputs": [],
   "source": [
    "def windowed_retile(in_path):\n",
    "    with rasterio.open(in_path, 'r') as src:\n",
    "        src_transform = src.transform\n",
    "        src_crs = src.crs\n",
    "\n",
    "        assert len(set(src.block_shapes)) == 1\n",
    "\n",
    "        for ji, current_window in src.block_windows():\n",
    "            print(ji)\n",
    "            #get the affine matrix for the window we are writing\n",
    "            win_transform = src.window_transform(current_window)\n",
    "            \n",
    "            #Play with the file names, end up with our output path\n",
    "            basename = os.path.basename(in_path)\n",
    "            basename_no_ext = os.path.splitext(basename)[0]\n",
    "            filename = f\"{basename_no_ext}_{ji[0]}_{ji[1]}.jpg\"\n",
    "            out_path = os.path.join(out_dir, filename)\n",
    "            \n",
    "            \n",
    "            #get the actual data from the window as a 3D numpy array\n",
    "            data = src.read(window=current_window)\n",
    "            #check if our data is all zeros (no data), if it is don't write the file\n",
    "            zeros = np.zeros_like(data)\n",
    "\n",
    "            if np.array_equal(data, zeros):\n",
    "                print(f\"{filename} is no data\")\n",
    "\n",
    "            else:\n",
    "                #this only runs if we have valid data. Write a custom JPEG profile, and export our window to a file.\n",
    "                profile={'driver': 'JPEG',\n",
    "                        'count': src.count,\n",
    "                        'dtype': rasterio.ubyte,\n",
    "                        'height': current_window.height,\n",
    "                        'width': current_window.width,\n",
    "                        'transform': win_transform,\n",
    "                        'crs': src_crs}\n",
    "\n",
    "                with rasterio.open(out_path, 'w', **profile) as dst:\n",
    "                    dst.write(data)\n",
    "\n",
    "                print(f\"wrote {out_path}\")"
   ]
  },
  {
   "cell_type": "code",
   "execution_count": null,
   "metadata": {},
   "outputs": [],
   "source": [
    "with open(file_list, 'r') as f:\n",
    "    in_paths = [line.strip() for line in f]\n",
    "\n",
    "num_of_files = len(in_paths)\n",
    "print(f\"{num_of_files} total images to process\")\n",
    "\n",
    "for path in in_paths:\n",
    "    windowed_retile(path)\n",
    "\n",
    "'''\n",
    "with ProcessPoolExecutor() as executor:\n",
    "    executor.map(windowed_retile, in_paths)\n",
    "'''"
   ]
  },
  {
   "cell_type": "code",
   "execution_count": null,
   "metadata": {},
   "outputs": [],
   "source": []
  }
 ],
 "metadata": {
  "kernelspec": {
   "display_name": "osgeo",
   "language": "python",
   "name": "osgeo"
  },
  "language_info": {
   "codemirror_mode": {
    "name": "ipython",
    "version": 3
   },
   "file_extension": ".py",
   "mimetype": "text/x-python",
   "name": "python",
   "nbconvert_exporter": "python",
   "pygments_lexer": "ipython3",
   "version": "3.7.4"
  }
 },
 "nbformat": 4,
 "nbformat_minor": 4
}
