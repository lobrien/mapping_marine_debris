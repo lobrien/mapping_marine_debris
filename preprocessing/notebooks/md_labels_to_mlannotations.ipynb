{
 "cells": [
  {
   "cell_type": "code",
   "execution_count": 1,
   "metadata": {},
   "outputs": [],
   "source": [
    "import os\n",
    "\n",
    "import geopandas as gpd\n",
    "import fiona\n",
    "\n",
    "import rasterio\n",
    "\n",
    "import matplotlib.pyplot as plt"
   ]
  },
  {
   "cell_type": "code",
   "execution_count": 2,
   "metadata": {},
   "outputs": [],
   "source": [
    "in_annotations = r\"/media/ross/ssd/00_2015_DAR_marinedebris/kahoolawe/labels/kahoolawe_annotations_point_utm4n.geojson\"\n",
    "in_tile_index = r\"/media/ross/ssd/00_2015_DAR_marinedebris/kahoolawe/tiles_shp/kahoolawe_512x512_tile_index.gpkg\"\n",
    "in_window_retile_dir = r\"/media/ross/ssd/00_2015_DAR_marinedebris/kahoolawe/04_window_retile\"\n",
    "\n",
    "out_dir = r\"/media/ross/ssd/00_2015_DAR_marinedebris/kahoolawe/labels\"\n",
    "\n",
    "out_path_gpkg = os.path.join(out_dir, \"kahoolawe_annotations.gpkg\")\n",
    "out_path_csv = os.path.join(out_dir, \"kahoolawe_annotations_mltrainable.csv\")\n",
    "\n",
    "                               # Debris categories:\n",
    "remap_debris_classes = {'B':0, # B = Buoys and floats\n",
    "                       'C':1,  # C = Cloth\n",
    "                       'F':2,  # F = Foam \n",
    "                       'L':3,  # L = Line (single pieces of rope, not net)\n",
    "                       'M':4,  # M = Metal\n",
    "                       'N':5,  # N = Net\n",
    "                       'P':6,  # P = Plastic\n",
    "                       'T':7,  # T = Tire\n",
    "                       'W':8,  # W = Processed wood\n",
    "                       'V':9,  # V = Vessel\n",
    "                       'O':10} # O = Other \n",
    "              "
   ]
  },
  {
   "cell_type": "code",
   "execution_count": 3,
   "metadata": {},
   "outputs": [],
   "source": [
    "in_anno = gpd.read_file(in_annotations)\n",
    "in_tindex = gpd.read_file(in_tile_index)"
   ]
  },
  {
   "cell_type": "code",
   "execution_count": 4,
   "metadata": {},
   "outputs": [],
   "source": [
    "#Create envelopes from the points based on the attribute 'max_size_meters'"
   ]
  },
  {
   "cell_type": "code",
   "execution_count": 5,
   "metadata": {},
   "outputs": [],
   "source": [
    "def buffer_by_attr(row):\n",
    "    return row.geometry.buffer(row.max_size_meters)"
   ]
  },
  {
   "cell_type": "code",
   "execution_count": 6,
   "metadata": {},
   "outputs": [],
   "source": [
    "buffered = in_anno.copy()"
   ]
  },
  {
   "cell_type": "code",
   "execution_count": 7,
   "metadata": {},
   "outputs": [],
   "source": [
    "buffered['geometry'] = buffered.apply(buffer_by_attr, axis=1)"
   ]
  },
  {
   "cell_type": "code",
   "execution_count": 8,
   "metadata": {},
   "outputs": [],
   "source": [
    "envelopes_raw = buffered.copy()"
   ]
  },
  {
   "cell_type": "code",
   "execution_count": 9,
   "metadata": {},
   "outputs": [
    {
     "data": {
      "text/plain": [
       "1298"
      ]
     },
     "execution_count": 9,
     "metadata": {},
     "output_type": "execute_result"
    }
   ],
   "source": [
    "envelopes_raw['geometry'] = buffered.envelope\n",
    "len(envelopes_raw)"
   ]
  },
  {
   "cell_type": "code",
   "execution_count": 10,
   "metadata": {},
   "outputs": [],
   "source": [
    "#do some clean up on the attributes so we have only what we need"
   ]
  },
  {
   "cell_type": "code",
   "execution_count": 11,
   "metadata": {},
   "outputs": [],
   "source": [
    "envelopes_raw['label'] = envelopes_raw['type']"
   ]
  },
  {
   "cell_type": "code",
   "execution_count": 12,
   "metadata": {},
   "outputs": [],
   "source": [
    "envelopes = envelopes_raw[['unique_pt_id', 'label', 'geometry']].replace({'label':remap_debris_classes})"
   ]
  },
  {
   "cell_type": "code",
   "execution_count": 13,
   "metadata": {},
   "outputs": [
    {
     "data": {
      "text/html": [
       "<div>\n",
       "<style scoped>\n",
       "    .dataframe tbody tr th:only-of-type {\n",
       "        vertical-align: middle;\n",
       "    }\n",
       "\n",
       "    .dataframe tbody tr th {\n",
       "        vertical-align: top;\n",
       "    }\n",
       "\n",
       "    .dataframe thead th {\n",
       "        text-align: right;\n",
       "    }\n",
       "</style>\n",
       "<table border=\"1\" class=\"dataframe\">\n",
       "  <thead>\n",
       "    <tr style=\"text-align: right;\">\n",
       "      <th></th>\n",
       "      <th>unique_pt_id</th>\n",
       "      <th>label</th>\n",
       "      <th>geometry</th>\n",
       "    </tr>\n",
       "  </thead>\n",
       "  <tbody>\n",
       "    <tr>\n",
       "      <td>0</td>\n",
       "      <td>KO-001-0001</td>\n",
       "      <td>6</td>\n",
       "      <td>POLYGON ((753040.5071327947 2280099.155738274,...</td>\n",
       "    </tr>\n",
       "    <tr>\n",
       "      <td>1</td>\n",
       "      <td>KO-001-0002</td>\n",
       "      <td>6</td>\n",
       "      <td>POLYGON ((753044.4685932701 2280101.566776025,...</td>\n",
       "    </tr>\n",
       "    <tr>\n",
       "      <td>2</td>\n",
       "      <td>KO-001-0003</td>\n",
       "      <td>5</td>\n",
       "      <td>POLYGON ((753043.648511753 2280098.316467939, ...</td>\n",
       "    </tr>\n",
       "    <tr>\n",
       "      <td>3</td>\n",
       "      <td>KO-001-0004</td>\n",
       "      <td>6</td>\n",
       "      <td>POLYGON ((753046.1782535802 2280098.823095408,...</td>\n",
       "    </tr>\n",
       "    <tr>\n",
       "      <td>4</td>\n",
       "      <td>KO-001-0005</td>\n",
       "      <td>6</td>\n",
       "      <td>POLYGON ((753048.5781626365 2280098.748135485,...</td>\n",
       "    </tr>\n",
       "  </tbody>\n",
       "</table>\n",
       "</div>"
      ],
      "text/plain": [
       "  unique_pt_id label                                           geometry\n",
       "0  KO-001-0001     6  POLYGON ((753040.5071327947 2280099.155738274,...\n",
       "1  KO-001-0002     6  POLYGON ((753044.4685932701 2280101.566776025,...\n",
       "2  KO-001-0003     5  POLYGON ((753043.648511753 2280098.316467939, ...\n",
       "3  KO-001-0004     6  POLYGON ((753046.1782535802 2280098.823095408,...\n",
       "4  KO-001-0005     6  POLYGON ((753048.5781626365 2280098.748135485,..."
      ]
     },
     "execution_count": 13,
     "metadata": {},
     "output_type": "execute_result"
    }
   ],
   "source": [
    "envelopes.head()"
   ]
  },
  {
   "cell_type": "code",
   "execution_count": 14,
   "metadata": {},
   "outputs": [],
   "source": [
    "#Find all the intersections of our envelopes and the tile index."
   ]
  },
  {
   "cell_type": "code",
   "execution_count": 15,
   "metadata": {},
   "outputs": [],
   "source": [
    "intersection = gpd.overlay(envelopes, in_tindex)"
   ]
  },
  {
   "cell_type": "code",
   "execution_count": 16,
   "metadata": {},
   "outputs": [],
   "source": [
    "#a little eda showed that a single envelope could produce two valid annotations when split by a image tile edge. So we're going to throw away\n",
    "# any funny little slivers that we find. We will identify funny slivers by looking at the x:y ratio"
   ]
  },
  {
   "cell_type": "code",
   "execution_count": 17,
   "metadata": {},
   "outputs": [],
   "source": [
    "normalized_ratio_x_y = abs(1 - ((intersection.bounds['maxx'] - intersection.bounds['minx']) / (intersection.bounds['maxy'] - intersection.bounds['miny'])))"
   ]
  },
  {
   "cell_type": "code",
   "execution_count": 18,
   "metadata": {},
   "outputs": [
    {
     "data": {
      "text/plain": [
       "0        4.429249\n",
       "3       16.840292\n",
       "1        0.225772\n",
       "2        0.000000\n",
       "5        0.172862\n",
       "          ...    \n",
       "1702     0.661821\n",
       "1703     2.969338\n",
       "1706     4.225761\n",
       "1705     1.539343\n",
       "1711     0.000000\n",
       "Length: 1713, dtype: float64"
      ]
     },
     "execution_count": 18,
     "metadata": {},
     "output_type": "execute_result"
    }
   ],
   "source": [
    "normalized_ratio_x_y"
   ]
  },
  {
   "cell_type": "code",
   "execution_count": 19,
   "metadata": {},
   "outputs": [],
   "source": [
    "intersection['normalized_ratio_x_y'] = normalized_ratio_x_y"
   ]
  },
  {
   "cell_type": "code",
   "execution_count": 20,
   "metadata": {},
   "outputs": [
    {
     "data": {
      "text/html": [
       "<div>\n",
       "<style scoped>\n",
       "    .dataframe tbody tr th:only-of-type {\n",
       "        vertical-align: middle;\n",
       "    }\n",
       "\n",
       "    .dataframe tbody tr th {\n",
       "        vertical-align: top;\n",
       "    }\n",
       "\n",
       "    .dataframe thead th {\n",
       "        text-align: right;\n",
       "    }\n",
       "</style>\n",
       "<table border=\"1\" class=\"dataframe\">\n",
       "  <thead>\n",
       "    <tr style=\"text-align: right;\">\n",
       "      <th></th>\n",
       "      <th>unique_pt_id</th>\n",
       "      <th>label</th>\n",
       "      <th>filename</th>\n",
       "      <th>geometry</th>\n",
       "      <th>normalized_ratio_x_y</th>\n",
       "    </tr>\n",
       "  </thead>\n",
       "  <tbody>\n",
       "    <tr>\n",
       "      <td>0</td>\n",
       "      <td>KO-001-0001</td>\n",
       "      <td>6</td>\n",
       "      <td>kahoolawe_107_8_7</td>\n",
       "      <td>POLYGON ((753040.5071327947 2280104.050613149,...</td>\n",
       "      <td>4.429249</td>\n",
       "    </tr>\n",
       "    <tr>\n",
       "      <td>3</td>\n",
       "      <td>KO-001-0003</td>\n",
       "      <td>5</td>\n",
       "      <td>kahoolawe_107_8_7</td>\n",
       "      <td>POLYGON ((753043.648511753 2280104.050613149, ...</td>\n",
       "      <td>16.840292</td>\n",
       "    </tr>\n",
       "    <tr>\n",
       "      <td>1</td>\n",
       "      <td>KO-001-0001</td>\n",
       "      <td>6</td>\n",
       "      <td>kahoolawe_107_9_7</td>\n",
       "      <td>POLYGON ((753040.5071327947 2280099.155738274,...</td>\n",
       "      <td>0.225772</td>\n",
       "    </tr>\n",
       "    <tr>\n",
       "      <td>2</td>\n",
       "      <td>KO-001-0002</td>\n",
       "      <td>6</td>\n",
       "      <td>kahoolawe_107_9_7</td>\n",
       "      <td>POLYGON ((753044.4685932701 2280101.566776025,...</td>\n",
       "      <td>0.000000</td>\n",
       "    </tr>\n",
       "    <tr>\n",
       "      <td>5</td>\n",
       "      <td>KO-001-0003</td>\n",
       "      <td>5</td>\n",
       "      <td>kahoolawe_107_9_7</td>\n",
       "      <td>POLYGON ((753043.648511753 2280098.316467939, ...</td>\n",
       "      <td>0.172862</td>\n",
       "    </tr>\n",
       "  </tbody>\n",
       "</table>\n",
       "</div>"
      ],
      "text/plain": [
       "  unique_pt_id label           filename  \\\n",
       "0  KO-001-0001     6  kahoolawe_107_8_7   \n",
       "3  KO-001-0003     5  kahoolawe_107_8_7   \n",
       "1  KO-001-0001     6  kahoolawe_107_9_7   \n",
       "2  KO-001-0002     6  kahoolawe_107_9_7   \n",
       "5  KO-001-0003     5  kahoolawe_107_9_7   \n",
       "\n",
       "                                            geometry  normalized_ratio_x_y  \n",
       "0  POLYGON ((753040.5071327947 2280104.050613149,...              4.429249  \n",
       "3  POLYGON ((753043.648511753 2280104.050613149, ...             16.840292  \n",
       "1  POLYGON ((753040.5071327947 2280099.155738274,...              0.225772  \n",
       "2  POLYGON ((753044.4685932701 2280101.566776025,...              0.000000  \n",
       "5  POLYGON ((753043.648511753 2280098.316467939, ...              0.172862  "
      ]
     },
     "execution_count": 20,
     "metadata": {},
     "output_type": "execute_result"
    }
   ],
   "source": [
    "intersection.head()"
   ]
  },
  {
   "cell_type": "code",
   "execution_count": 21,
   "metadata": {},
   "outputs": [],
   "source": [
    "filtered = intersection[intersection['normalized_ratio_x_y'] <= .7]"
   ]
  },
  {
   "cell_type": "code",
   "execution_count": 22,
   "metadata": {},
   "outputs": [],
   "source": [
    "#Create a couple placeholder columns to store pixel coordinates"
   ]
  },
  {
   "cell_type": "code",
   "execution_count": 23,
   "metadata": {},
   "outputs": [
    {
     "name": "stderr",
     "output_type": "stream",
     "text": [
      "/home/ross/anaconda3/envs/osgeo/lib/python3.7/site-packages/ipykernel_launcher.py:1: SettingWithCopyWarning: \n",
      "A value is trying to be set on a copy of a slice from a DataFrame.\n",
      "Try using .loc[row_indexer,col_indexer] = value instead\n",
      "\n",
      "See the caveats in the documentation: http://pandas.pydata.org/pandas-docs/stable/user_guide/indexing.html#returning-a-view-versus-a-copy\n",
      "  \"\"\"Entry point for launching an IPython kernel.\n",
      "/home/ross/anaconda3/envs/osgeo/lib/python3.7/site-packages/ipykernel_launcher.py:2: SettingWithCopyWarning: \n",
      "A value is trying to be set on a copy of a slice from a DataFrame.\n",
      "Try using .loc[row_indexer,col_indexer] = value instead\n",
      "\n",
      "See the caveats in the documentation: http://pandas.pydata.org/pandas-docs/stable/user_guide/indexing.html#returning-a-view-versus-a-copy\n",
      "  \n",
      "/home/ross/anaconda3/envs/osgeo/lib/python3.7/site-packages/ipykernel_launcher.py:3: SettingWithCopyWarning: \n",
      "A value is trying to be set on a copy of a slice from a DataFrame.\n",
      "Try using .loc[row_indexer,col_indexer] = value instead\n",
      "\n",
      "See the caveats in the documentation: http://pandas.pydata.org/pandas-docs/stable/user_guide/indexing.html#returning-a-view-versus-a-copy\n",
      "  This is separate from the ipykernel package so we can avoid doing imports until\n",
      "/home/ross/anaconda3/envs/osgeo/lib/python3.7/site-packages/ipykernel_launcher.py:4: SettingWithCopyWarning: \n",
      "A value is trying to be set on a copy of a slice from a DataFrame.\n",
      "Try using .loc[row_indexer,col_indexer] = value instead\n",
      "\n",
      "See the caveats in the documentation: http://pandas.pydata.org/pandas-docs/stable/user_guide/indexing.html#returning-a-view-versus-a-copy\n",
      "  after removing the cwd from sys.path.\n"
     ]
    }
   ],
   "source": [
    "filtered['xmin'] = 0\n",
    "filtered['ymin'] = 0\n",
    "filtered['xmax'] = 0\n",
    "filtered['ymax'] = 0"
   ]
  },
  {
   "cell_type": "code",
   "execution_count": 24,
   "metadata": {},
   "outputs": [],
   "source": [
    "#final step is to pull the affine transformation grid from each envelope's corresponding image \n",
    "#and then convert utm coordinates to pixel coordinates"
   ]
  },
  {
   "cell_type": "code",
   "execution_count": 25,
   "metadata": {},
   "outputs": [
    {
     "name": "stderr",
     "output_type": "stream",
     "text": [
      "/home/ross/anaconda3/envs/osgeo/lib/python3.7/site-packages/pandas/core/indexing.py:494: SettingWithCopyWarning: \n",
      "A value is trying to be set on a copy of a slice from a DataFrame.\n",
      "Try using .loc[row_indexer,col_indexer] = value instead\n",
      "\n",
      "See the caveats in the documentation: http://pandas.pydata.org/pandas-docs/stable/user_guide/indexing.html#returning-a-view-versus-a-copy\n",
      "  self.obj[item] = s\n"
     ]
    }
   ],
   "source": [
    "for i, row in filtered.iterrows():\n",
    "    #get the mins and the maxs\n",
    "    xmin = row.geometry.bounds[0]\n",
    "    xmax = row.geometry.bounds[2]\n",
    "    ymin = row.geometry.bounds[1]\n",
    "    ymax = row.geometry.bounds[3]\n",
    "    \n",
    "    #\n",
    "    xs = (xmin, xmax)\n",
    "    ys = (ymin, ymax)\n",
    "    \n",
    "    image_path = os.path.join(in_window_retile_dir, row['filename'] + '.jpg')\n",
    "    with rasterio.open(image_path, 'r') as src:\n",
    "        geotrans = src.transform\n",
    "    \n",
    "        pix_coords = rasterio.transform.rowcol(geotrans, xs, ys)\n",
    "    \n",
    "    filtered.loc[i, 'xmin'] = pix_coords[1][0]\n",
    "    filtered.loc[i, 'xmax'] = pix_coords[1][1]\n",
    "    filtered.loc[i, 'ymin'] = pix_coords[0][1]   \n",
    "    filtered.loc[i, 'ymax'] = pix_coords[0][0]\n",
    "     "
   ]
  },
  {
   "cell_type": "code",
   "execution_count": 26,
   "metadata": {},
   "outputs": [],
   "source": [
    "#Write to a gpkg for GIS display and a csv for ml training (ml training format matters!)"
   ]
  },
  {
   "cell_type": "code",
   "execution_count": 27,
   "metadata": {},
   "outputs": [],
   "source": [
    "\n",
    "filtered[['unique_pt_id', 'label', 'filename', 'xmin', 'ymin','xmax', 'ymax', 'normalized_ratio_x_y', 'geometry']].to_file(out_path_gpkg, driver=\"GPKG\")\n",
    "filtered[['filename', 'xmin', 'ymin','xmax', 'ymax', 'label']].to_csv(out_path_csv)                                                                                                "
   ]
  },
  {
   "cell_type": "code",
   "execution_count": null,
   "metadata": {},
   "outputs": [],
   "source": []
  }
 ],
 "metadata": {
  "kernelspec": {
   "display_name": "osgeo",
   "language": "python",
   "name": "osgeo"
  },
  "language_info": {
   "codemirror_mode": {
    "name": "ipython",
    "version": 3
   },
   "file_extension": ".py",
   "mimetype": "text/x-python",
   "name": "python",
   "nbconvert_exporter": "python",
   "pygments_lexer": "ipython3",
   "version": "3.7.4"
  }
 },
 "nbformat": 4,
 "nbformat_minor": 4
}
