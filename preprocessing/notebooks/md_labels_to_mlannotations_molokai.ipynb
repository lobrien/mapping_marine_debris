{
 "cells": [
  {
   "cell_type": "code",
   "execution_count": null,
   "metadata": {},
   "outputs": [],
   "source": [
    "import os\n",
    "\n",
    "import geopandas as gpd\n",
    "import fiona\n",
    "\n",
    "import rasterio\n",
    "\n",
    "import matplotlib.pyplot as plt"
   ]
  },
  {
   "cell_type": "code",
   "execution_count": null,
   "metadata": {},
   "outputs": [],
   "source": [
    "in_annotations = r\"/media/ross/ssd/00_2015_DAR_marinedebris/maui/labels/maui_md_label_envelopes.gpkg\"\n",
    "in_tile_index = r\"/media/ross/ssd/00_2015_DAR_marinedebris/maui/tiles_shp/maui_512x512_tindex.gpkg\"\n",
    "in_window_retile_dir = r\"/media/ross/ssd/00_2015_DAR_marinedebris/maui/04_window_retile\"\n",
    "\n",
    "out_dir = r\"/media/ross/ssd/00_2015_DAR_marinedebris/maui/labels\"\n",
    "\n",
    "out_path_gpkg = os.path.join(out_dir, \"maui_annotations.gpkg\")\n",
    "out_path_csv = os.path.join(out_dir, \"maui_annotations_mltrainable.csv\")\n",
    "\n",
    "                               # Debris categories:\n",
    "remap_debris_classes = {'B':0, # B = Buoys and floats\n",
    "                       'C':1,  # C = Cloth\n",
    "                       'F':2,  # F = Foam \n",
    "                       'L':3,  # L = Line (single pieces of rope, not net)\n",
    "                       'M':4,  # M = Metal\n",
    "                       'N':5,  # N = Net\n",
    "                       'P':6,  # P = Plastic\n",
    "                       'T':7,  # T = Tire\n",
    "                       'W':8,  # W = Processed wood\n",
    "                       'V':9,  # V = Vessel\n",
    "                       'O':10} # O = Other \n",
    "              "
   ]
  },
  {
   "cell_type": "code",
   "execution_count": null,
   "metadata": {},
   "outputs": [],
   "source": [
    "envelopes = gpd.read_file(in_annotations)\n",
    "in_tindex = gpd.read_file(in_tile_index)"
   ]
  },
  {
   "cell_type": "code",
   "execution_count": null,
   "metadata": {},
   "outputs": [],
   "source": [
    "#Find all the intersections of our envelopes and the tile index."
   ]
  },
  {
   "cell_type": "code",
   "execution_count": null,
   "metadata": {},
   "outputs": [],
   "source": [
    "intersection = gpd.overlay(envelopes, in_tindex)"
   ]
  },
  {
   "cell_type": "code",
   "execution_count": null,
   "metadata": {},
   "outputs": [],
   "source": [
    "#a little eda showed that a single envelope could produce two valid annotations when split by a image tile edge. So we're going to throw away\n",
    "# any funny little slivers that we find. We will identify funny slivers by looking at the x:y ratio"
   ]
  },
  {
   "cell_type": "code",
   "execution_count": null,
   "metadata": {},
   "outputs": [],
   "source": [
    "normalized_ratio_x_y = abs(1 - ((intersection.bounds['maxx'] - intersection.bounds['minx']) / (intersection.bounds['maxy'] - intersection.bounds['miny'])))"
   ]
  },
  {
   "cell_type": "code",
   "execution_count": null,
   "metadata": {},
   "outputs": [],
   "source": [
    "normalized_ratio_x_y"
   ]
  },
  {
   "cell_type": "code",
   "execution_count": null,
   "metadata": {},
   "outputs": [],
   "source": [
    "intersection['normalized_ratio_x_y'] = normalized_ratio_x_y"
   ]
  },
  {
   "cell_type": "code",
   "execution_count": null,
   "metadata": {},
   "outputs": [],
   "source": [
    "intersection.head()"
   ]
  },
  {
   "cell_type": "code",
   "execution_count": null,
   "metadata": {},
   "outputs": [],
   "source": [
    "filtered = intersection[intersection['normalized_ratio_x_y'] <= .7]"
   ]
  },
  {
   "cell_type": "code",
   "execution_count": null,
   "metadata": {},
   "outputs": [],
   "source": [
    "filtered.to_file(out_path_gpkg, driver='GPKG')"
   ]
  },
  {
   "cell_type": "code",
   "execution_count": null,
   "metadata": {},
   "outputs": [],
   "source": [
    "#Create a couple placeholder columns to store pixel coordinates"
   ]
  },
  {
   "cell_type": "code",
   "execution_count": null,
   "metadata": {},
   "outputs": [],
   "source": [
    "filtered['xmin'] = 0\n",
    "filtered['ymin'] = 0\n",
    "filtered['xmax'] = 0\n",
    "filtered['ymax'] = 0"
   ]
  },
  {
   "cell_type": "code",
   "execution_count": null,
   "metadata": {},
   "outputs": [],
   "source": [
    "#final step is to pull the affine transformation grid from each envelope's corresponding image \n",
    "#and then convert utm coordinates to pixel coordinates"
   ]
  },
  {
   "cell_type": "code",
   "execution_count": null,
   "metadata": {},
   "outputs": [],
   "source": [
    "for i, row in filtered.iterrows():\n",
    "    #get the mins and the maxs\n",
    "    xmin = row.geometry.bounds[0]\n",
    "    xmax = row.geometry.bounds[2]\n",
    "    ymin = row.geometry.bounds[1]\n",
    "    ymax = row.geometry.bounds[3]\n",
    "    \n",
    "    #\n",
    "    xs = (xmin, xmax)\n",
    "    ys = (ymin, ymax)\n",
    "    \n",
    "    image_path = os.path.join(in_window_retile_dir, row['filename'] + '.jpg')\n",
    "    with rasterio.open(image_path, 'r') as src:\n",
    "        geotrans = src.transform\n",
    "    \n",
    "        pix_coords = rasterio.transform.rowcol(geotrans, xs, ys)\n",
    "    \n",
    "    filtered.loc[i, 'xmin'] = pix_coords[1][0]\n",
    "    filtered.loc[i, 'xmax'] = pix_coords[1][1]\n",
    "    filtered.loc[i, 'ymin'] = pix_coords[0][1]   \n",
    "    filtered.loc[i, 'ymax'] = pix_coords[0][0]\n",
    "     "
   ]
  },
  {
   "cell_type": "code",
   "execution_count": null,
   "metadata": {},
   "outputs": [],
   "source": [
    "#Write to a gpkg for GIS display and a csv for ml training (ml training format matters!)"
   ]
  },
  {
   "cell_type": "code",
   "execution_count": null,
   "metadata": {},
   "outputs": [],
   "source": [
    "\n",
    "filtered[['unique_pt_id', 'label', 'filename', 'xmin', 'ymin','xmax', 'ymax', 'normalized_ratio_x_y', 'geometry']].to_file(out_path_gpkg, driver=\"GPKG\")\n",
    "filtered[['filename', 'xmin', 'ymin','xmax', 'ymax', 'label']].to_csv(out_path_csv)                                                                                                "
   ]
  },
  {
   "cell_type": "code",
   "execution_count": null,
   "metadata": {},
   "outputs": [],
   "source": []
  }
 ],
 "metadata": {
  "kernelspec": {
   "display_name": "osgeo",
   "language": "python",
   "name": "osgeo"
  },
  "language_info": {
   "codemirror_mode": {
    "name": "ipython",
    "version": 3
   },
   "file_extension": ".py",
   "mimetype": "text/x-python",
   "name": "python",
   "nbconvert_exporter": "python",
   "pygments_lexer": "ipython3",
   "version": "3.7.4"
  }
 },
 "nbformat": 4,
 "nbformat_minor": 4
}
