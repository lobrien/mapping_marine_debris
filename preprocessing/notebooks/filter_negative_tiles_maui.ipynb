{
 "cells": [
  {
   "cell_type": "code",
   "execution_count": 1,
   "metadata": {},
   "outputs": [],
   "source": [
    "import os\n",
    "\n",
    "import geopandas as gpd\n",
    "import fiona\n",
    "\n",
    "import rasterio\n",
    "\n",
    "import matplotlib.pyplot as plt\n",
    "import numpy as np"
   ]
  },
  {
   "cell_type": "code",
   "execution_count": null,
   "metadata": {},
   "outputs": [],
   "source": [
    "in_labels = r\"/media/ross/ssd/00_2015_DAR_marinedebris/maui/labels/maui_annotations.gpkg\"\n",
    "in_tile_index = r\"/media/ross/ssd/00_2015_DAR_marinedebris/maui/tiles_shp/maui_512x512_tindex.gpkg\"\n",
    "\n",
    "out_dir = r\"/media/ross/ssd/00_2015_DAR_marinedebris/maui/labels\"\n",
    "\n",
    "out_path_gpkg = os.path.join(out_dir, \"maui_md_label_envelopes.gpkg\")\n",
    "out_path_pos_tiles = os.path.join(out_dir, \"positive_tiles.txt\")\n",
    "out_path_neg_tiles = os.path.join(out_dir, \"negative_tiles.txt\")"
   ]
  },
  {
   "cell_type": "code",
   "execution_count": null,
   "metadata": {},
   "outputs": [],
   "source": [
    "envelopes = gpd.read_file(in_labels)\n",
    "in_tindex = gpd.read_file(in_tile_index)"
   ]
  },
  {
   "cell_type": "code",
   "execution_count": null,
   "metadata": {},
   "outputs": [],
   "source": [
    "envelopes.head()"
   ]
  },
  {
   "cell_type": "code",
   "execution_count": null,
   "metadata": {},
   "outputs": [],
   "source": [
    "print(len(envelopes))"
   ]
  },
  {
   "cell_type": "code",
   "execution_count": null,
   "metadata": {},
   "outputs": [],
   "source": [
    "in_tindex.head()"
   ]
  },
  {
   "cell_type": "code",
   "execution_count": null,
   "metadata": {},
   "outputs": [],
   "source": [
    "if in_tindex.crs == envelopes.crs:\n",
    "    print(f'{in_tindex.crs} and {envelopes.crs} match')\n",
    "else:\n",
    "    print(f'{in_tindex.crs} and {envelopes.crs} DO NOT MATCH')"
   ]
  },
  {
   "cell_type": "code",
   "execution_count": null,
   "metadata": {},
   "outputs": [],
   "source": [
    "#Find all the intersections of our envelopes and the tile index."
   ]
  },
  {
   "cell_type": "code",
   "execution_count": null,
   "metadata": {},
   "outputs": [],
   "source": [
    "intersection = gpd.overlay(envelopes, in_tindex)"
   ]
  },
  {
   "cell_type": "code",
   "execution_count": null,
   "metadata": {},
   "outputs": [],
   "source": [
    "intersection.head()"
   ]
  },
  {
   "cell_type": "code",
   "execution_count": null,
   "metadata": {},
   "outputs": [],
   "source": [
    "all_tiles = in_tindex.filename.unique()\n",
    "print(len(all_tiles))"
   ]
  },
  {
   "cell_type": "code",
   "execution_count": null,
   "metadata": {},
   "outputs": [],
   "source": [
    "pos_tiles = intersection.filename.unique().astype('str')\n",
    "print(len(pos_tiles))"
   ]
  },
  {
   "cell_type": "code",
   "execution_count": null,
   "metadata": {},
   "outputs": [],
   "source": [
    "pos_list = pos_tiles.tolist()\n",
    "pos_list_ext = []\n",
    "\n",
    "for pos in pos_list:\n",
    "    new_pos = str(pos) + str('.tif')\n",
    "    \n",
    "    pos_list_ext.append(new_pos)\n",
    "    \n",
    "if len(pos_list_ext) == len(pos_tiles):\n",
    "    print('positive lists match')\n",
    "else:\n",
    "    print('WARNING, INPUT AND OUTPUT POSTITIVE LIST LENGTHS DONT MATCH')"
   ]
  },
  {
   "cell_type": "code",
   "execution_count": null,
   "metadata": {},
   "outputs": [],
   "source": [
    "neg_tiles = np.setdiff1d(all_tiles, pos_tiles)\n",
    "len(neg_tiles)"
   ]
  },
  {
   "cell_type": "code",
   "execution_count": null,
   "metadata": {},
   "outputs": [],
   "source": [
    "neg_list = neg_tiles.tolist()\n",
    "neg_list_ext = []\n",
    "\n",
    "for neg in neg_list:\n",
    "    new_neg = str(neg) + str('.tif')\n",
    "    \n",
    "    neg_list_ext.append(new_neg)\n",
    "    \n",
    "if len(neg_list_ext) == len(neg_tiles):\n",
    "    print('positive lists match')\n",
    "else:\n",
    "    print('WARNING, INPUT AND OUTPUT POSTITIVE LIST LENGTHS DONT MATCH')"
   ]
  },
  {
   "cell_type": "code",
   "execution_count": null,
   "metadata": {},
   "outputs": [],
   "source": [
    "if len(pos_tiles) + len(neg_tiles) == len(all_tiles):\n",
    "    print(\"Gottem.\")\n",
    "    \n",
    "    with open(out_path_pos_tiles, 'w') as f:\n",
    "        for item in pos_list_ext:\n",
    "            f.write(\"%s\\n\" % item)\n",
    "\n",
    "    with open(out_path_neg_tiles, 'w') as f:\n",
    "        for item in neg_list_ext:\n",
    "            f.write(\"%s\\n\" % item)\n",
    "else:\n",
    "    print(f'I think I lost some tiles: {len(pos_tiles)} pos/ {len(neg_tiles)} neg/ {len(all_tiles)} total')"
   ]
  },
  {
   "cell_type": "code",
   "execution_count": null,
   "metadata": {},
   "outputs": [],
   "source": [
    "multiples_of_512 = [512 * i for i in range(1,100)]"
   ]
  },
  {
   "cell_type": "code",
   "execution_count": null,
   "metadata": {},
   "outputs": [],
   "source": [
    "print(multiples_of_512)"
   ]
  },
  {
   "cell_type": "code",
   "execution_count": null,
   "metadata": {},
   "outputs": [],
   "source": []
  }
 ],
 "metadata": {
  "kernelspec": {
   "display_name": "osgeo",
   "language": "python",
   "name": "osgeo"
  },
  "language_info": {
   "codemirror_mode": {
    "name": "ipython",
    "version": 3
   },
   "file_extension": ".py",
   "mimetype": "text/x-python",
   "name": "python",
   "nbconvert_exporter": "python",
   "pygments_lexer": "ipython3",
   "version": "3.7.4"
  }
 },
 "nbformat": 4,
 "nbformat_minor": 4
}
