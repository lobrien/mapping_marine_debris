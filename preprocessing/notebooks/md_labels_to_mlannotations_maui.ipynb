{
 "cells": [
  {
   "cell_type": "code",
   "execution_count": 1,
   "metadata": {},
   "outputs": [],
   "source": [
    "import os\n",
    "\n",
    "import geopandas as gpd\n",
    "import fiona\n",
    "\n",
    "import rasterio\n",
    "import numpy as np\n",
    "import matplotlib.pyplot as plt"
   ]
  },
  {
   "cell_type": "code",
   "execution_count": 2,
   "metadata": {},
   "outputs": [],
   "source": [
    "in_annotations = r\"/media/ross/ssd/00_2015_DAR_marinedebris/maui/labels/maui_md_label_envelopes.gpkg\"\n",
    "in_tile_index = r\"/media/ross/ssd/00_2015_DAR_marinedebris/maui/tiles_shp/maui_512x512_tindex.gpkg\"\n",
    "in_window_retile_dir = r\"/media/ross/ssd/00_2015_DAR_marinedebris/maui/04_window_retile\"\n",
    "\n",
    "out_dir = r\"/media/ross/ssd/00_2015_DAR_marinedebris/maui/labels\"\n",
    "\n",
    "out_path_gpkg = os.path.join(out_dir, \"maui_annotations.gpkg\")\n",
    "out_path_csv = os.path.join(out_dir, \"maui_annotations_mltrainable.csv\")\n",
    "\n",
    "                               # Debris categories:\n",
    "remap_debris_classes = {'B':0, # B = Buoys and floats\n",
    "                       'C':1,  # C = Cloth\n",
    "                       'F':2,  # F = Foam \n",
    "                       'L':3,  # L = Line (single pieces of rope, not net)\n",
    "                       'M':4,  # M = Metal\n",
    "                       'N':5,  # N = Net\n",
    "                       'P':6,  # P = Plastic\n",
    "                       'T':7,  # T = Tire\n",
    "                       'W':8,  # W = Processed wood\n",
    "                       'V':9,  # V = Vessel\n",
    "                       'O':10} # O = Other \n",
    "\n",
    "remap_debris_classes_string = {'B':'buoy', # B = Buoys and floats\n",
    "                       'C':'cloth',  # C = Cloth\n",
    "                       'F':'foam',  # F = Foam \n",
    "                       'L':'line',  # L = Line (single pieces of rope, not net)\n",
    "                       'M':'metal',  # M = Metal\n",
    "                       'N':'net',  # N = Net\n",
    "                       'P':'plastic',  # P = Plastic\n",
    "                       'T':'tire',  # T = Tire\n",
    "                       'W':'processed wood',  # W = Processed wood\n",
    "                       'V':'vessel',  # V = Vessel\n",
    "                       'O':'other'} # O = Other \n",
    "              "
   ]
  },
  {
   "cell_type": "code",
   "execution_count": 3,
   "metadata": {},
   "outputs": [],
   "source": [
    "envelopes_raw = gpd.read_file(in_annotations)\n",
    "in_tindex = gpd.read_file(in_tile_index)"
   ]
  },
  {
   "cell_type": "code",
   "execution_count": 5,
   "metadata": {},
   "outputs": [],
   "source": [
    "envelopes_raw['label'] = envelopes_raw['type']"
   ]
  },
  {
   "cell_type": "code",
   "execution_count": 6,
   "metadata": {},
   "outputs": [],
   "source": [
    "envelopes = envelopes_raw[['unique_pt_id', 'label', 'geometry']].replace({'label':remap_debris_classes_string})"
   ]
  },
  {
   "cell_type": "code",
   "execution_count": 7,
   "metadata": {},
   "outputs": [
    {
     "data": {
      "text/html": [
       "<div>\n",
       "<style scoped>\n",
       "    .dataframe tbody tr th:only-of-type {\n",
       "        vertical-align: middle;\n",
       "    }\n",
       "\n",
       "    .dataframe tbody tr th {\n",
       "        vertical-align: top;\n",
       "    }\n",
       "\n",
       "    .dataframe thead th {\n",
       "        text-align: right;\n",
       "    }\n",
       "</style>\n",
       "<table border=\"1\" class=\"dataframe\">\n",
       "  <thead>\n",
       "    <tr style=\"text-align: right;\">\n",
       "      <th></th>\n",
       "      <th>unique_pt_id</th>\n",
       "      <th>label</th>\n",
       "      <th>geometry</th>\n",
       "    </tr>\n",
       "  </thead>\n",
       "  <tbody>\n",
       "    <tr>\n",
       "      <td>0</td>\n",
       "      <td>MA-001-0001</td>\n",
       "      <td>other</td>\n",
       "      <td>POLYGON ((746767.042812153 2326430.389631396, ...</td>\n",
       "    </tr>\n",
       "    <tr>\n",
       "      <td>1</td>\n",
       "      <td>MA-001-0002</td>\n",
       "      <td>buoy</td>\n",
       "      <td>POLYGON ((746944.3821923686 2326443.440532876,...</td>\n",
       "    </tr>\n",
       "    <tr>\n",
       "      <td>2</td>\n",
       "      <td>MA-001-0003</td>\n",
       "      <td>plastic</td>\n",
       "      <td>POLYGON ((747264.7125466345 2326555.103654591,...</td>\n",
       "    </tr>\n",
       "    <tr>\n",
       "      <td>3</td>\n",
       "      <td>MA-001-0004</td>\n",
       "      <td>plastic</td>\n",
       "      <td>POLYGON ((747264.9353615083 2326554.11005451, ...</td>\n",
       "    </tr>\n",
       "    <tr>\n",
       "      <td>4</td>\n",
       "      <td>MA-001-0005</td>\n",
       "      <td>processed wood</td>\n",
       "      <td>POLYGON ((747449.5547359405 2326629.859620453,...</td>\n",
       "    </tr>\n",
       "  </tbody>\n",
       "</table>\n",
       "</div>"
      ],
      "text/plain": [
       "  unique_pt_id           label  \\\n",
       "0  MA-001-0001           other   \n",
       "1  MA-001-0002            buoy   \n",
       "2  MA-001-0003         plastic   \n",
       "3  MA-001-0004         plastic   \n",
       "4  MA-001-0005  processed wood   \n",
       "\n",
       "                                            geometry  \n",
       "0  POLYGON ((746767.042812153 2326430.389631396, ...  \n",
       "1  POLYGON ((746944.3821923686 2326443.440532876,...  \n",
       "2  POLYGON ((747264.7125466345 2326555.103654591,...  \n",
       "3  POLYGON ((747264.9353615083 2326554.11005451, ...  \n",
       "4  POLYGON ((747449.5547359405 2326629.859620453,...  "
      ]
     },
     "execution_count": 7,
     "metadata": {},
     "output_type": "execute_result"
    }
   ],
   "source": [
    "envelopes.head()"
   ]
  },
  {
   "cell_type": "code",
   "execution_count": 8,
   "metadata": {},
   "outputs": [],
   "source": [
    "#Find all the intersections of our envelopes and the tile index.\n",
    "\n",
    "intersection = gpd.overlay(envelopes, in_tindex)"
   ]
  },
  {
   "cell_type": "code",
   "execution_count": 9,
   "metadata": {},
   "outputs": [],
   "source": [
    "#a little eda showed that a single envelope could produce two valid annotations when split by a image tile edge. So we're going to throw away\n",
    "# any funny little slivers that we find. We will identify funny slivers by looking at the x:y ratio\n",
    "\n",
    "normalized_ratio_x_y = abs(1 - ((intersection.bounds['maxx'] - intersection.bounds['minx']) / (intersection.bounds['maxy'] - intersection.bounds['miny'])))"
   ]
  },
  {
   "cell_type": "code",
   "execution_count": 10,
   "metadata": {},
   "outputs": [
    {
     "data": {
      "text/plain": [
       "0       0.000000\n",
       "1       0.000000\n",
       "2       0.000000\n",
       "3       0.201197\n",
       "4       4.970264\n",
       "          ...   \n",
       "2229    0.461550\n",
       "2228    1.081919\n",
       "2230    0.538450\n",
       "2232    0.094675\n",
       "2231    0.905325\n",
       "Length: 2233, dtype: float64"
      ]
     },
     "execution_count": 10,
     "metadata": {},
     "output_type": "execute_result"
    }
   ],
   "source": [
    "normalized_ratio_x_y"
   ]
  },
  {
   "cell_type": "code",
   "execution_count": 11,
   "metadata": {},
   "outputs": [],
   "source": [
    "intersection['normalized_ratio_x_y'] = normalized_ratio_x_y"
   ]
  },
  {
   "cell_type": "code",
   "execution_count": 12,
   "metadata": {},
   "outputs": [
    {
     "data": {
      "text/html": [
       "<div>\n",
       "<style scoped>\n",
       "    .dataframe tbody tr th:only-of-type {\n",
       "        vertical-align: middle;\n",
       "    }\n",
       "\n",
       "    .dataframe tbody tr th {\n",
       "        vertical-align: top;\n",
       "    }\n",
       "\n",
       "    .dataframe thead th {\n",
       "        text-align: right;\n",
       "    }\n",
       "</style>\n",
       "<table border=\"1\" class=\"dataframe\">\n",
       "  <thead>\n",
       "    <tr style=\"text-align: right;\">\n",
       "      <th></th>\n",
       "      <th>unique_pt_id</th>\n",
       "      <th>label</th>\n",
       "      <th>filename</th>\n",
       "      <th>geometry</th>\n",
       "      <th>normalized_ratio_x_y</th>\n",
       "    </tr>\n",
       "  </thead>\n",
       "  <tbody>\n",
       "    <tr>\n",
       "      <td>0</td>\n",
       "      <td>MA-001-0001</td>\n",
       "      <td>other</td>\n",
       "      <td>maui_1038_6_15</td>\n",
       "      <td>POLYGON ((746767.042812153 2326430.389631396, ...</td>\n",
       "      <td>0.000000</td>\n",
       "    </tr>\n",
       "    <tr>\n",
       "      <td>1</td>\n",
       "      <td>MA-001-0002</td>\n",
       "      <td>buoy</td>\n",
       "      <td>maui_1038_23_14</td>\n",
       "      <td>POLYGON ((746944.3821923686 2326443.440532876,...</td>\n",
       "      <td>0.000000</td>\n",
       "    </tr>\n",
       "    <tr>\n",
       "      <td>2</td>\n",
       "      <td>MA-001-0003</td>\n",
       "      <td>plastic</td>\n",
       "      <td>maui_1039_25_3</td>\n",
       "      <td>POLYGON ((747264.7125466345 2326555.103654591,...</td>\n",
       "      <td>0.000000</td>\n",
       "    </tr>\n",
       "    <tr>\n",
       "      <td>3</td>\n",
       "      <td>MA-001-0004</td>\n",
       "      <td>plastic</td>\n",
       "      <td>maui_1039_25_3</td>\n",
       "      <td>POLYGON ((747264.9353615083 2326554.277551278,...</td>\n",
       "      <td>0.201197</td>\n",
       "    </tr>\n",
       "    <tr>\n",
       "      <td>4</td>\n",
       "      <td>MA-001-0004</td>\n",
       "      <td>plastic</td>\n",
       "      <td>maui_1039_25_4</td>\n",
       "      <td>POLYGON ((747264.9353615083 2326554.11005451, ...</td>\n",
       "      <td>4.970264</td>\n",
       "    </tr>\n",
       "  </tbody>\n",
       "</table>\n",
       "</div>"
      ],
      "text/plain": [
       "  unique_pt_id    label         filename  \\\n",
       "0  MA-001-0001    other   maui_1038_6_15   \n",
       "1  MA-001-0002     buoy  maui_1038_23_14   \n",
       "2  MA-001-0003  plastic   maui_1039_25_3   \n",
       "3  MA-001-0004  plastic   maui_1039_25_3   \n",
       "4  MA-001-0004  plastic   maui_1039_25_4   \n",
       "\n",
       "                                            geometry  normalized_ratio_x_y  \n",
       "0  POLYGON ((746767.042812153 2326430.389631396, ...              0.000000  \n",
       "1  POLYGON ((746944.3821923686 2326443.440532876,...              0.000000  \n",
       "2  POLYGON ((747264.7125466345 2326555.103654591,...              0.000000  \n",
       "3  POLYGON ((747264.9353615083 2326554.277551278,...              0.201197  \n",
       "4  POLYGON ((747264.9353615083 2326554.11005451, ...              4.970264  "
      ]
     },
     "execution_count": 12,
     "metadata": {},
     "output_type": "execute_result"
    }
   ],
   "source": [
    "intersection.head()"
   ]
  },
  {
   "cell_type": "code",
   "execution_count": 13,
   "metadata": {},
   "outputs": [],
   "source": [
    "filtered = intersection[intersection['normalized_ratio_x_y'] <= .7]"
   ]
  },
  {
   "cell_type": "code",
   "execution_count": 14,
   "metadata": {},
   "outputs": [],
   "source": [
    "filtered.to_file(out_path_gpkg, driver='GPKG')"
   ]
  },
  {
   "cell_type": "code",
   "execution_count": 15,
   "metadata": {},
   "outputs": [
    {
     "name": "stderr",
     "output_type": "stream",
     "text": [
      "/home/ross/anaconda3/envs/osgeo/lib/python3.7/site-packages/ipykernel_launcher.py:3: SettingWithCopyWarning: \n",
      "A value is trying to be set on a copy of a slice from a DataFrame.\n",
      "Try using .loc[row_indexer,col_indexer] = value instead\n",
      "\n",
      "See the caveats in the documentation: http://pandas.pydata.org/pandas-docs/stable/user_guide/indexing.html#returning-a-view-versus-a-copy\n",
      "  This is separate from the ipykernel package so we can avoid doing imports until\n",
      "/home/ross/anaconda3/envs/osgeo/lib/python3.7/site-packages/ipykernel_launcher.py:4: SettingWithCopyWarning: \n",
      "A value is trying to be set on a copy of a slice from a DataFrame.\n",
      "Try using .loc[row_indexer,col_indexer] = value instead\n",
      "\n",
      "See the caveats in the documentation: http://pandas.pydata.org/pandas-docs/stable/user_guide/indexing.html#returning-a-view-versus-a-copy\n",
      "  after removing the cwd from sys.path.\n",
      "/home/ross/anaconda3/envs/osgeo/lib/python3.7/site-packages/ipykernel_launcher.py:5: SettingWithCopyWarning: \n",
      "A value is trying to be set on a copy of a slice from a DataFrame.\n",
      "Try using .loc[row_indexer,col_indexer] = value instead\n",
      "\n",
      "See the caveats in the documentation: http://pandas.pydata.org/pandas-docs/stable/user_guide/indexing.html#returning-a-view-versus-a-copy\n",
      "  \"\"\"\n",
      "/home/ross/anaconda3/envs/osgeo/lib/python3.7/site-packages/ipykernel_launcher.py:6: SettingWithCopyWarning: \n",
      "A value is trying to be set on a copy of a slice from a DataFrame.\n",
      "Try using .loc[row_indexer,col_indexer] = value instead\n",
      "\n",
      "See the caveats in the documentation: http://pandas.pydata.org/pandas-docs/stable/user_guide/indexing.html#returning-a-view-versus-a-copy\n",
      "  \n"
     ]
    }
   ],
   "source": [
    "#Create a couple placeholder columns to store pixel coordinates\n",
    "\n",
    "filtered['xmin'] = 0\n",
    "filtered['ymin'] = 0\n",
    "filtered['xmax'] = 0\n",
    "filtered['ymax'] = 0"
   ]
  },
  {
   "cell_type": "code",
   "execution_count": null,
   "metadata": {},
   "outputs": [
    {
     "name": "stderr",
     "output_type": "stream",
     "text": [
      "/home/ross/anaconda3/envs/osgeo/lib/python3.7/site-packages/pandas/core/indexing.py:494: SettingWithCopyWarning: \n",
      "A value is trying to be set on a copy of a slice from a DataFrame.\n",
      "Try using .loc[row_indexer,col_indexer] = value instead\n",
      "\n",
      "See the caveats in the documentation: http://pandas.pydata.org/pandas-docs/stable/user_guide/indexing.html#returning-a-view-versus-a-copy\n",
      "  self.obj[item] = s\n"
     ]
    }
   ],
   "source": [
    "#final step is to pull the affine transformation grid from each envelope's corresponding image \n",
    "#and then convert utm coordinates to pixel coordinates\n",
    "\n",
    "for i, row in filtered.iterrows():\n",
    "    #get the mins and the maxs\n",
    "    xmin = row.geometry.bounds[0]\n",
    "    xmax = row.geometry.bounds[2]\n",
    "    ymin = row.geometry.bounds[1]\n",
    "    ymax = row.geometry.bounds[3]\n",
    "    \n",
    "    #\n",
    "    xs = (xmin, xmax)\n",
    "    ys = (ymin, ymax)\n",
    "    \n",
    "    image_path = os.path.join(in_window_retile_dir, row['filename'] + '.jpg')\n",
    "    \n",
    "    if os.path.exists(image_path) == True:\n",
    "        with rasterio.open(image_path, 'r') as src:\n",
    "            geotrans = src.transform\n",
    "\n",
    "            pix_coords = rasterio.transform.rowcol(geotrans, xs, ys)\n",
    "\n",
    "        filtered.loc[i, 'xmin'] = pix_coords[1][0]\n",
    "        filtered.loc[i, 'xmax'] = pix_coords[1][1]\n",
    "\n",
    "        filtered.loc[i, 'ymin'] = pix_coords[0][1]   \n",
    "        filtered.loc[i, 'ymax'] = pix_coords[0][0]\n",
    "    else:\n",
    "        print(f'{image_path} nope.')\n",
    "        filtered.drop(i)\n"
   ]
  },
  {
   "cell_type": "code",
   "execution_count": null,
   "metadata": {},
   "outputs": [],
   "source": [
    "#Write to a gpkg for GIS display and a csv for ml training (ml training format matters!)"
   ]
  },
  {
   "cell_type": "code",
   "execution_count": null,
   "metadata": {},
   "outputs": [],
   "source": [
    "filtered.head()"
   ]
  },
  {
   "cell_type": "code",
   "execution_count": null,
   "metadata": {},
   "outputs": [],
   "source": [
    "filtered['label'] = filtered['type']"
   ]
  },
  {
   "cell_type": "code",
   "execution_count": null,
   "metadata": {},
   "outputs": [],
   "source": [
    "filtered_lbl = filtered.replace({'label':remap_debris_classes})"
   ]
  },
  {
   "cell_type": "code",
   "execution_count": null,
   "metadata": {},
   "outputs": [],
   "source": [
    "\n",
    "filtered_lbl[['unique_pt_id', 'label', 'filename', 'xmin', 'ymin','xmax', 'ymax', 'normalized_ratio_x_y', 'geometry']].to_file(out_path_gpkg, driver=\"GPKG\")\n",
    "filtered_lbl[['filename', 'xmin', 'ymin','xmax', 'ymax', 'label']].to_csv(out_path_csv)                                                                                                "
   ]
  },
  {
   "cell_type": "code",
   "execution_count": null,
   "metadata": {},
   "outputs": [],
   "source": [
    "# find all the positive tiles so only images with labels get uploaded to azure"
   ]
  },
  {
   "cell_type": "code",
   "execution_count": null,
   "metadata": {},
   "outputs": [],
   "source": [
    "all_tiles = in_tindex.filename.unique()\n",
    "print(len(all_tiles))"
   ]
  },
  {
   "cell_type": "code",
   "execution_count": null,
   "metadata": {},
   "outputs": [],
   "source": [
    "pos_tiles = filtered_lbl.filename.unique().astype('str')\n",
    "print(len(pos_tiles))"
   ]
  },
  {
   "cell_type": "code",
   "execution_count": null,
   "metadata": {},
   "outputs": [],
   "source": [
    "pos_list = pos_tiles.tolist()\n",
    "pos_list_ext = []\n",
    "\n",
    "for pos in pos_list:\n",
    "    new_pos = str(pos) + str('.jpg')\n",
    "    \n",
    "    pos_list_ext.append(new_pos)\n",
    "    \n",
    "if len(pos_list_ext) == len(pos_tiles):\n",
    "    print('positive lists match')\n",
    "else:\n",
    "    print('WARNING, INPUT AND OUTPUT POSTITIVE LIST LENGTHS DONT MATCH')"
   ]
  },
  {
   "cell_type": "code",
   "execution_count": null,
   "metadata": {},
   "outputs": [],
   "source": [
    "neg_tiles = np.setdiff1d(all_tiles, pos_tiles)\n",
    "len(neg_tiles)"
   ]
  },
  {
   "cell_type": "code",
   "execution_count": null,
   "metadata": {},
   "outputs": [],
   "source": [
    "neg_list = neg_tiles.tolist()\n",
    "neg_list_ext = []\n",
    "\n",
    "for neg in neg_list:\n",
    "    new_neg = str(neg) + str('.jpg')\n",
    "    \n",
    "    neg_list_ext.append(new_neg)\n",
    "    \n",
    "if len(neg_list_ext) == len(neg_tiles):\n",
    "    print('positive lists match')\n",
    "else:\n",
    "    print('WARNING, INPUT AND OUTPUT POSTITIVE LIST LENGTHS DONT MATCH')"
   ]
  },
  {
   "cell_type": "code",
   "execution_count": null,
   "metadata": {},
   "outputs": [],
   "source": [
    "if len(pos_tiles) + len(neg_tiles) == len(all_tiles):\n",
    "    print(\"Gottem.\")\n",
    "    \n",
    "    out_path_pos_tiles = os.path.join(in_window_retile_dir, 'positive_tiles.txt')\n",
    "    with open(out_path_pos_tiles, 'w') as f:\n",
    "        for item in pos_list_ext:\n",
    "            f.write(\"%s\\n\" % item)\n",
    "    out_path_neg_tiles = os.path.join(in_window_retile_dir, 'negative_tiles.txt')\n",
    "    with open(out_path_neg_tiles, 'w') as f:\n",
    "        for item in neg_list_ext:\n",
    "            f.write(\"%s\\n\" % item)\n",
    "else:\n",
    "    print(f'I think I lost some tiles: {len(pos_tiles)} pos/ {len(neg_tiles)} neg/ {len(all_tiles)} total')"
   ]
  },
  {
   "cell_type": "code",
   "execution_count": null,
   "metadata": {},
   "outputs": [],
   "source": []
  },
  {
   "cell_type": "code",
   "execution_count": null,
   "metadata": {},
   "outputs": [],
   "source": []
  }
 ],
 "metadata": {
  "kernelspec": {
   "display_name": "osgeo",
   "language": "python",
   "name": "osgeo"
  },
  "language_info": {
   "codemirror_mode": {
    "name": "ipython",
    "version": 3
   },
   "file_extension": ".py",
   "mimetype": "text/x-python",
   "name": "python",
   "nbconvert_exporter": "python",
   "pygments_lexer": "ipython3",
   "version": "3.7.4"
  }
 },
 "nbformat": 4,
 "nbformat_minor": 4
}
